{
 "cells": [
  {
   "cell_type": "code",
   "execution_count": 1,
   "id": "959ed850",
   "metadata": {},
   "outputs": [],
   "source": [
    "import numpy as np\n",
    "import pandas as pd\n",
    "from sklearn.model_selection import train_test_split\n",
    "import os\n",
    "from catboost import CatBoostClassifier\n",
    "from  xgboost import XGBClassifier\n",
    "from sklearn.tree import DecisionTreeClassifier \n",
    "from sklearn.neighbors import KNeighborsClassifier\n",
    "from sklearn.ensemble import RandomForestClassifier\n",
    "from sklearn.ensemble import ExtraTreesClassifier\n",
    "from sklearn import metrics\n",
    "from sklearn.metrics import confusion_matrix\n",
    "from sklearn.preprocessing import LabelEncoder\n",
    "from sklearn.preprocessing import MinMaxScaler\n",
    "from imblearn.over_sampling import SMOTE\n",
    "from sklearn.utils import resample"
   ]
  },
  {
   "cell_type": "code",
   "execution_count": 2,
   "id": "3b968686",
   "metadata": {},
   "outputs": [
    {
     "data": {
      "text/html": [
       "<div>\n",
       "<style scoped>\n",
       "    .dataframe tbody tr th:only-of-type {\n",
       "        vertical-align: middle;\n",
       "    }\n",
       "\n",
       "    .dataframe tbody tr th {\n",
       "        vertical-align: top;\n",
       "    }\n",
       "\n",
       "    .dataframe thead th {\n",
       "        text-align: right;\n",
       "    }\n",
       "</style>\n",
       "<table border=\"1\" class=\"dataframe\">\n",
       "  <thead>\n",
       "    <tr style=\"text-align: right;\">\n",
       "      <th></th>\n",
       "      <th>age</th>\n",
       "      <th>sex</th>\n",
       "      <th>on_thyroxine</th>\n",
       "      <th>query_on_thyroxine</th>\n",
       "      <th>on_antithyroid_medication</th>\n",
       "      <th>sick</th>\n",
       "      <th>pregnant</th>\n",
       "      <th>thyroid_surgery</th>\n",
       "      <th>I131_treatment</th>\n",
       "      <th>query_hypothyroid</th>\n",
       "      <th>...</th>\n",
       "      <th>TSH</th>\n",
       "      <th>T3_measured</th>\n",
       "      <th>T3</th>\n",
       "      <th>TT4_measured</th>\n",
       "      <th>TT4</th>\n",
       "      <th>T4U_measured</th>\n",
       "      <th>T4U</th>\n",
       "      <th>FTI_measured</th>\n",
       "      <th>FTI</th>\n",
       "      <th>Class</th>\n",
       "    </tr>\n",
       "  </thead>\n",
       "  <tbody>\n",
       "    <tr>\n",
       "      <th>0</th>\n",
       "      <td>46.0</td>\n",
       "      <td>0.0</td>\n",
       "      <td>0</td>\n",
       "      <td>0</td>\n",
       "      <td>0</td>\n",
       "      <td>0</td>\n",
       "      <td>0</td>\n",
       "      <td>0</td>\n",
       "      <td>0.0</td>\n",
       "      <td>0</td>\n",
       "      <td>...</td>\n",
       "      <td>0.98000</td>\n",
       "      <td>0</td>\n",
       "      <td>2.022785</td>\n",
       "      <td>1</td>\n",
       "      <td>109.0</td>\n",
       "      <td>1</td>\n",
       "      <td>0.910000</td>\n",
       "      <td>1</td>\n",
       "      <td>120.000000</td>\n",
       "      <td>0</td>\n",
       "    </tr>\n",
       "    <tr>\n",
       "      <th>1</th>\n",
       "      <td>70.0</td>\n",
       "      <td>1.0</td>\n",
       "      <td>1</td>\n",
       "      <td>0</td>\n",
       "      <td>0</td>\n",
       "      <td>0</td>\n",
       "      <td>0</td>\n",
       "      <td>0</td>\n",
       "      <td>0.0</td>\n",
       "      <td>0</td>\n",
       "      <td>...</td>\n",
       "      <td>0.16000</td>\n",
       "      <td>1</td>\n",
       "      <td>1.900000</td>\n",
       "      <td>1</td>\n",
       "      <td>175.0</td>\n",
       "      <td>0</td>\n",
       "      <td>0.983264</td>\n",
       "      <td>0</td>\n",
       "      <td>-17.987976</td>\n",
       "      <td>0</td>\n",
       "    </tr>\n",
       "    <tr>\n",
       "      <th>2</th>\n",
       "      <td>70.0</td>\n",
       "      <td>1.0</td>\n",
       "      <td>0</td>\n",
       "      <td>0</td>\n",
       "      <td>0</td>\n",
       "      <td>0</td>\n",
       "      <td>0</td>\n",
       "      <td>0</td>\n",
       "      <td>0.0</td>\n",
       "      <td>0</td>\n",
       "      <td>...</td>\n",
       "      <td>0.72000</td>\n",
       "      <td>1</td>\n",
       "      <td>1.200000</td>\n",
       "      <td>1</td>\n",
       "      <td>61.0</td>\n",
       "      <td>1</td>\n",
       "      <td>0.870000</td>\n",
       "      <td>1</td>\n",
       "      <td>70.000000</td>\n",
       "      <td>0</td>\n",
       "    </tr>\n",
       "    <tr>\n",
       "      <th>3</th>\n",
       "      <td>18.0</td>\n",
       "      <td>1.0</td>\n",
       "      <td>1</td>\n",
       "      <td>0</td>\n",
       "      <td>0</td>\n",
       "      <td>0</td>\n",
       "      <td>0</td>\n",
       "      <td>0</td>\n",
       "      <td>0.0</td>\n",
       "      <td>0</td>\n",
       "      <td>...</td>\n",
       "      <td>0.03000</td>\n",
       "      <td>0</td>\n",
       "      <td>2.022743</td>\n",
       "      <td>1</td>\n",
       "      <td>183.0</td>\n",
       "      <td>1</td>\n",
       "      <td>1.300000</td>\n",
       "      <td>1</td>\n",
       "      <td>141.000000</td>\n",
       "      <td>0</td>\n",
       "    </tr>\n",
       "    <tr>\n",
       "      <th>4</th>\n",
       "      <td>59.0</td>\n",
       "      <td>1.0</td>\n",
       "      <td>0</td>\n",
       "      <td>0</td>\n",
       "      <td>0</td>\n",
       "      <td>0</td>\n",
       "      <td>0</td>\n",
       "      <td>0</td>\n",
       "      <td>0.0</td>\n",
       "      <td>0</td>\n",
       "      <td>...</td>\n",
       "      <td>0.72155</td>\n",
       "      <td>0</td>\n",
       "      <td>2.022729</td>\n",
       "      <td>1</td>\n",
       "      <td>72.0</td>\n",
       "      <td>1</td>\n",
       "      <td>0.920000</td>\n",
       "      <td>1</td>\n",
       "      <td>78.000000</td>\n",
       "      <td>0</td>\n",
       "    </tr>\n",
       "  </tbody>\n",
       "</table>\n",
       "<p>5 rows × 27 columns</p>\n",
       "</div>"
      ],
      "text/plain": [
       "    age  sex  on_thyroxine  query_on_thyroxine  on_antithyroid_medication  \\\n",
       "0  46.0  0.0             0                   0                          0   \n",
       "1  70.0  1.0             1                   0                          0   \n",
       "2  70.0  1.0             0                   0                          0   \n",
       "3  18.0  1.0             1                   0                          0   \n",
       "4  59.0  1.0             0                   0                          0   \n",
       "\n",
       "   sick  pregnant  thyroid_surgery  I131_treatment  query_hypothyroid  ...  \\\n",
       "0     0         0                0             0.0                  0  ...   \n",
       "1     0         0                0             0.0                  0  ...   \n",
       "2     0         0                0             0.0                  0  ...   \n",
       "3     0         0                0             0.0                  0  ...   \n",
       "4     0         0                0             0.0                  0  ...   \n",
       "\n",
       "       TSH  T3_measured        T3  TT4_measured    TT4  T4U_measured  \\\n",
       "0  0.98000            0  2.022785             1  109.0             1   \n",
       "1  0.16000            1  1.900000             1  175.0             0   \n",
       "2  0.72000            1  1.200000             1   61.0             1   \n",
       "3  0.03000            0  2.022743             1  183.0             1   \n",
       "4  0.72155            0  2.022729             1   72.0             1   \n",
       "\n",
       "        T4U  FTI_measured         FTI  Class  \n",
       "0  0.910000             1  120.000000      0  \n",
       "1  0.983264             0  -17.987976      0  \n",
       "2  0.870000             1   70.000000      0  \n",
       "3  1.300000             1  141.000000      0  \n",
       "4  0.920000             1   78.000000      0  \n",
       "\n",
       "[5 rows x 27 columns]"
      ]
     },
     "execution_count": 2,
     "metadata": {},
     "output_type": "execute_result"
    }
   ],
   "source": [
    "dir_path_post = '../cleaned_processed_data'\n",
    "df = pd.read_csv(os.path.join(dir_path_post,'stage02_preprocessed.csv'))\n",
    "df.head(5)"
   ]
  },
  {
   "cell_type": "markdown",
   "id": "b4314712",
   "metadata": {},
   "source": [
    "- features which are highly correlated with Class label... "
   ]
  },
  {
   "cell_type": "code",
   "execution_count": 3,
   "id": "29704220",
   "metadata": {},
   "outputs": [],
   "source": [
    "def get_correlation(df):\n",
    "    corr_values = abs(df.corr(method='spearman')['Class'])\n",
    "    corr_values = corr_values.drop('Class')\n",
    "    corr_values = corr_values[corr_values > 0.03]\n",
    "    display(corr_values)\n",
    "    return corr_values\n"
   ]
  },
  {
   "cell_type": "code",
   "execution_count": null,
   "id": "1e6264e6",
   "metadata": {},
   "outputs": [],
   "source": []
  },
  {
   "cell_type": "code",
   "execution_count": 4,
   "id": "f9a7e9b3",
   "metadata": {},
   "outputs": [
    {
     "data": {
      "text/plain": [
       "age                   0.049430\n",
       "sex                   0.036009\n",
       "on_thyroxine          0.079947\n",
       "query_hypothyroid     0.050175\n",
       "query_hyperthyroid    0.032031\n",
       "psych                 0.041757\n",
       "TSH_measured          0.062682\n",
       "TSH                   0.223612\n",
       "T3_measured           0.041204\n",
       "T3                    0.142235\n",
       "TT4_measured          0.053423\n",
       "TT4                   0.093563\n",
       "T4U_measured          0.034699\n",
       "FTI_measured          0.034857\n",
       "FTI                   0.087105\n",
       "Name: Class, dtype: float64"
      ]
     },
     "metadata": {},
     "output_type": "display_data"
    }
   ],
   "source": [
    "corr_values = get_correlation(df)"
   ]
  },
  {
   "cell_type": "markdown",
   "id": "49b3838e",
   "metadata": {},
   "source": [
    "### Train Test Split"
   ]
  },
  {
   "cell_type": "code",
   "execution_count": 5,
   "id": "858873f0",
   "metadata": {},
   "outputs": [],
   "source": [
    "def traintest_data(df, features, label):\n",
    "    X = df[features]\n",
    "    Y = df[label]\n",
    "    X_train, X_test, y_train, y_test = train_test_split(X,Y, test_size=0.30, random_state=42) \n",
    "    return X_train, X_test, y_train, y_test\n",
    "\n",
    "\n",
    "X_train, X_test, y_train, y_test = traintest_data(df, corr_values.index, 'Class')"
   ]
  },
  {
   "cell_type": "code",
   "execution_count": 6,
   "id": "a11acd80",
   "metadata": {},
   "outputs": [],
   "source": [
    "# Classifiers we are going to use\n",
    "classifiers = {\n",
    "    \"XGBClassifier\" : XGBClassifier(learning_rate=0.01),\n",
    "    \"Nearest Neighbors\" : KNeighborsClassifier(4),\n",
    "    \"Decision Tree\" : DecisionTreeClassifier(class_weight = 'balanced'),\n",
    "    \"Random Forest\": RandomForestClassifier(class_weight = 'balanced',random_state = 1),\n",
    "    \"ExtraTrees\": ExtraTreesClassifier(class_weight = 'balanced',random_state = 1),\n",
    "    \"CatBoostClassifier\" : CatBoostClassifier(max_depth=4,verbose=0),\n",
    "}"
   ]
  },
  {
   "cell_type": "code",
   "execution_count": 7,
   "id": "ece7d0a9",
   "metadata": {},
   "outputs": [
    {
     "name": "stderr",
     "output_type": "stream",
     "text": [
      "D:\\Apps\\anaconda\\lib\\site-packages\\xgboost\\sklearn.py:1224: UserWarning: The use of label encoder in XGBClassifier is deprecated and will be removed in a future release. To remove this warning, do the following: 1) Pass option use_label_encoder=False when constructing XGBClassifier object; and 2) Encode your labels (y) as integers starting with 0, i.e. 0, 1, 2, ..., [num_class - 1].\n",
      "  warnings.warn(label_encoder_deprecation_msg, UserWarning)\n"
     ]
    },
    {
     "name": "stdout",
     "output_type": "stream",
     "text": [
      "[16:58:38] WARNING: C:/Users/Administrator/workspace/xgboost-win64_release_1.5.0/src/learner.cc:1115: Starting in XGBoost 1.3.0, the default evaluation metric used with the objective 'multi:softprob' was changed from 'merror' to 'mlogloss'. Explicitly set eval_metric if you'd like to restore the old behavior.\n",
      "Confusion matrix for:  XGBClassifier\n"
     ]
    },
    {
     "data": {
      "text/plain": [
       "array([[7254,  115,   33,    1],\n",
       "       [  13,  403,    2,    0],\n",
       "       [  41,    1,   98,    0],\n",
       "       [   8,    0,    0,   84]], dtype=int64)"
      ]
     },
     "metadata": {},
     "output_type": "display_data"
    },
    {
     "name": "stdout",
     "output_type": "stream",
     "text": [
      "Confusion matrix for:  Nearest Neighbors\n"
     ]
    },
    {
     "data": {
      "text/plain": [
       "array([[7321,   66,   14,    2],\n",
       "       [ 346,   68,    4,    0],\n",
       "       [  86,   10,   44,    0],\n",
       "       [  92,    0,    0,    0]], dtype=int64)"
      ]
     },
     "metadata": {},
     "output_type": "display_data"
    },
    {
     "name": "stdout",
     "output_type": "stream",
     "text": [
      "Confusion matrix for:  Decision Tree\n"
     ]
    },
    {
     "data": {
      "text/plain": [
       "array([[7253,   98,   51,    1],\n",
       "       [  77,  341,    0,    0],\n",
       "       [  36,    6,   98,    0],\n",
       "       [   0,    0,    0,   92]], dtype=int64)"
      ]
     },
     "metadata": {},
     "output_type": "display_data"
    },
    {
     "name": "stdout",
     "output_type": "stream",
     "text": [
      "Confusion matrix for:  Random Forest\n"
     ]
    },
    {
     "data": {
      "text/plain": [
       "array([[7271,   92,   40,    0],\n",
       "       [  66,  351,    1,    0],\n",
       "       [  48,    0,   92,    0],\n",
       "       [   7,    0,    0,   85]], dtype=int64)"
      ]
     },
     "metadata": {},
     "output_type": "display_data"
    },
    {
     "name": "stdout",
     "output_type": "stream",
     "text": [
      "Confusion matrix for:  ExtraTrees\n"
     ]
    },
    {
     "data": {
      "text/plain": [
       "array([[7236,   99,   47,   21],\n",
       "       [ 164,  253,    1,    0],\n",
       "       [  53,    0,   87,    0],\n",
       "       [  54,    0,    0,   38]], dtype=int64)"
      ]
     },
     "metadata": {},
     "output_type": "display_data"
    },
    {
     "name": "stdout",
     "output_type": "stream",
     "text": [
      "Confusion matrix for:  CatBoostClassifier\n"
     ]
    },
    {
     "data": {
      "text/plain": [
       "array([[7284,   87,   32,    0],\n",
       "       [  40,  377,    1,    0],\n",
       "       [  51,    0,   89,    0],\n",
       "       [   9,    0,    0,   83]], dtype=int64)"
      ]
     },
     "metadata": {},
     "output_type": "display_data"
    },
    {
     "data": {
      "text/html": [
       "<div>\n",
       "<style scoped>\n",
       "    .dataframe tbody tr th:only-of-type {\n",
       "        vertical-align: middle;\n",
       "    }\n",
       "\n",
       "    .dataframe tbody tr th {\n",
       "        vertical-align: top;\n",
       "    }\n",
       "\n",
       "    .dataframe thead th {\n",
       "        text-align: right;\n",
       "    }\n",
       "</style>\n",
       "<table border=\"1\" class=\"dataframe\">\n",
       "  <thead>\n",
       "    <tr style=\"text-align: right;\">\n",
       "      <th></th>\n",
       "      <th>Classifier</th>\n",
       "      <th>Accuracy</th>\n",
       "      <th>Precision</th>\n",
       "      <th>Recall</th>\n",
       "    </tr>\n",
       "    <tr>\n",
       "      <th>FScore</th>\n",
       "      <th></th>\n",
       "      <th></th>\n",
       "      <th></th>\n",
       "      <th></th>\n",
       "    </tr>\n",
       "  </thead>\n",
       "  <tbody>\n",
       "    <tr>\n",
       "      <th>0.8782</th>\n",
       "      <td>XGBClassifier</td>\n",
       "      <td>0.9734</td>\n",
       "      <td>0.8733</td>\n",
       "      <td>0.8893</td>\n",
       "    </tr>\n",
       "    <tr>\n",
       "      <th>0.8670</th>\n",
       "      <td>CatBoostClassifier</td>\n",
       "      <td>0.9727</td>\n",
       "      <td>0.8821</td>\n",
       "      <td>0.8559</td>\n",
       "    </tr>\n",
       "    <tr>\n",
       "      <th>0.8613</th>\n",
       "      <td>Decision Tree</td>\n",
       "      <td>0.9666</td>\n",
       "      <td>0.8495</td>\n",
       "      <td>0.8739</td>\n",
       "    </tr>\n",
       "    <tr>\n",
       "      <th>0.8582</th>\n",
       "      <td>Random Forest</td>\n",
       "      <td>0.9685</td>\n",
       "      <td>0.8669</td>\n",
       "      <td>0.8507</td>\n",
       "    </tr>\n",
       "    <tr>\n",
       "      <th>0.6910</th>\n",
       "      <td>ExtraTrees</td>\n",
       "      <td>0.9455</td>\n",
       "      <td>0.7428</td>\n",
       "      <td>0.6543</td>\n",
       "    </tr>\n",
       "    <tr>\n",
       "      <th>0.4095</th>\n",
       "      <td>Nearest Neighbors</td>\n",
       "      <td>0.9230</td>\n",
       "      <td>0.5288</td>\n",
       "      <td>0.3665</td>\n",
       "    </tr>\n",
       "  </tbody>\n",
       "</table>\n",
       "</div>"
      ],
      "text/plain": [
       "                Classifier  Accuracy  Precision  Recall\n",
       "FScore                                                 \n",
       "0.8782       XGBClassifier    0.9734     0.8733  0.8893\n",
       "0.8670  CatBoostClassifier    0.9727     0.8821  0.8559\n",
       "0.8613       Decision Tree    0.9666     0.8495  0.8739\n",
       "0.8582       Random Forest    0.9685     0.8669  0.8507\n",
       "0.6910          ExtraTrees    0.9455     0.7428  0.6543\n",
       "0.4095   Nearest Neighbors    0.9230     0.5288  0.3665"
      ]
     },
     "metadata": {},
     "output_type": "display_data"
    }
   ],
   "source": [
    "def train_getscore(classifiers,X_train, X_test, y_train, y_test ):\n",
    "    score_board = pd.DataFrame(columns = [\"Classifier\", \n",
    "                                \"Accuracy\", \n",
    "                                \"Precision\", \n",
    "                                \"Recall\", \n",
    "                                \"FScore\"])\n",
    "    for name, clf in classifiers.items():\n",
    "        clf.fit(X_train,y_train)\n",
    "        y_pred = clf.predict(X_test)\n",
    "        \n",
    "        precision_score,recall_score,f_score,support = metrics.precision_recall_fscore_support(y_test,y_pred,average='macro')\n",
    "        score_board=score_board.append({ \"Classifier\": name,\n",
    "                           \"Accuracy\": round(metrics.accuracy_score(y_test, y_pred), 4),\n",
    "                           \"Precision\": round(precision_score, 4), \n",
    "                           \"Recall\":round(recall_score, 4), \n",
    "                           \"FScore\":round(f_score, 4)\n",
    "                           }, ignore_index=True)\n",
    "        print(\"Confusion matrix for: \", name)\n",
    "        display(confusion_matrix(y_test, y_pred))\n",
    "    score_board.set_index(\"FScore\", inplace=True)\n",
    "    score_board.sort_values(by=\"FScore\", ascending=False, inplace=True)   \n",
    "    return score_board\n",
    "        \n",
    "display(train_getscore(classifiers, X_train, X_test, y_train, y_test))        "
   ]
  },
  {
   "cell_type": "code",
   "execution_count": 8,
   "id": "500c8d20",
   "metadata": {},
   "outputs": [
    {
     "data": {
      "text/plain": [
       "(26841, 27)"
      ]
     },
     "metadata": {},
     "output_type": "display_data"
    },
    {
     "data": {
      "text/plain": [
       "0    24698\n",
       "1     1401\n",
       "2      450\n",
       "3      292\n",
       "Name: Class, dtype: int64"
      ]
     },
     "execution_count": 8,
     "metadata": {},
     "output_type": "execute_result"
    }
   ],
   "source": [
    "# it seems like data is highly imbalanced . if its true then we cannot only rely on \n",
    "display(df.shape)\n",
    "df['Class'].value_counts()"
   ]
  },
  {
   "cell_type": "raw",
   "id": "b0f252e9",
   "metadata": {},
   "source": [
    "# https://www.javatpoint.com/discretization-in-data-mining"
   ]
  },
  {
   "cell_type": "code",
   "execution_count": 9,
   "id": "f422b87d",
   "metadata": {},
   "outputs": [],
   "source": [
    "def fdiscretizer(attribute,dataframe):\n",
    "    enc = LabelEncoder()\n",
    "    dataframe[attribute] = pd.qcut(dataframe[attribute], 20, duplicates='drop')\n",
    "    dataframe[attribute] = enc.fit_transform(dataframe[attribute])\n",
    "    dataframe = dataframe.convert_dtypes(convert_integer=True)\n",
    "\n",
    "data2 = df.copy()\n",
    "fdiscretizer('age',data2)\n",
    "fdiscretizer('TSH',data2)\n",
    "fdiscretizer('T3',data2)\n",
    "fdiscretizer('TT4',data2)\n",
    "fdiscretizer('T4U',data2)\n",
    "fdiscretizer('FTI',data2)"
   ]
  },
  {
   "cell_type": "code",
   "execution_count": 10,
   "id": "ae12f300",
   "metadata": {},
   "outputs": [
    {
     "data": {
      "text/plain": [
       "age                   0.050317\n",
       "sex                   0.036009\n",
       "on_thyroxine          0.079947\n",
       "query_hypothyroid     0.050175\n",
       "query_hyperthyroid    0.032031\n",
       "psych                 0.041757\n",
       "TSH_measured          0.062682\n",
       "TSH                   0.222632\n",
       "T3_measured           0.041204\n",
       "T3                    0.142219\n",
       "TT4_measured          0.053423\n",
       "TT4                   0.093105\n",
       "T4U_measured          0.034699\n",
       "FTI_measured          0.034857\n",
       "FTI                   0.085890\n",
       "Name: Class, dtype: float64"
      ]
     },
     "metadata": {},
     "output_type": "display_data"
    },
    {
     "name": "stderr",
     "output_type": "stream",
     "text": [
      "D:\\Apps\\anaconda\\lib\\site-packages\\xgboost\\sklearn.py:1224: UserWarning: The use of label encoder in XGBClassifier is deprecated and will be removed in a future release. To remove this warning, do the following: 1) Pass option use_label_encoder=False when constructing XGBClassifier object; and 2) Encode your labels (y) as integers starting with 0, i.e. 0, 1, 2, ..., [num_class - 1].\n",
      "  warnings.warn(label_encoder_deprecation_msg, UserWarning)\n"
     ]
    },
    {
     "name": "stdout",
     "output_type": "stream",
     "text": [
      "[16:58:48] WARNING: C:/Users/Administrator/workspace/xgboost-win64_release_1.5.0/src/learner.cc:1115: Starting in XGBoost 1.3.0, the default evaluation metric used with the objective 'multi:softprob' was changed from 'merror' to 'mlogloss'. Explicitly set eval_metric if you'd like to restore the old behavior.\n",
      "Confusion matrix for:  XGBClassifier\n"
     ]
    },
    {
     "data": {
      "text/plain": [
       "array([[7253,  117,   32,    1],\n",
       "       [  46,  364,    8,    0],\n",
       "       [  46,   23,   71,    0],\n",
       "       [   8,    0,    0,   84]], dtype=int64)"
      ]
     },
     "metadata": {},
     "output_type": "display_data"
    },
    {
     "name": "stdout",
     "output_type": "stream",
     "text": [
      "Confusion matrix for:  Nearest Neighbors\n"
     ]
    },
    {
     "data": {
      "text/plain": [
       "array([[7305,   71,   20,    7],\n",
       "       [ 275,  135,    8,    0],\n",
       "       [  70,   21,   49,    0],\n",
       "       [  88,    0,    2,    2]], dtype=int64)"
      ]
     },
     "metadata": {},
     "output_type": "display_data"
    },
    {
     "name": "stdout",
     "output_type": "stream",
     "text": [
      "Confusion matrix for:  Decision Tree\n"
     ]
    },
    {
     "data": {
      "text/plain": [
       "array([[7212,  124,   66,    1],\n",
       "       [  93,  314,   11,    0],\n",
       "       [  45,   17,   78,    0],\n",
       "       [   0,    0,    0,   92]], dtype=int64)"
      ]
     },
     "metadata": {},
     "output_type": "display_data"
    },
    {
     "name": "stdout",
     "output_type": "stream",
     "text": [
      "Confusion matrix for:  Random Forest\n"
     ]
    },
    {
     "data": {
      "text/plain": [
       "array([[7264,   94,   44,    1],\n",
       "       [  93,  315,   10,    0],\n",
       "       [  47,    9,   84,    0],\n",
       "       [  11,    0,    0,   81]], dtype=int64)"
      ]
     },
     "metadata": {},
     "output_type": "display_data"
    },
    {
     "name": "stdout",
     "output_type": "stream",
     "text": [
      "Confusion matrix for:  ExtraTrees\n"
     ]
    },
    {
     "data": {
      "text/plain": [
       "array([[7216,  107,   49,   31],\n",
       "       [ 148,  257,   13,    0],\n",
       "       [  49,   10,   81,    0],\n",
       "       [  66,    0,    0,   26]], dtype=int64)"
      ]
     },
     "metadata": {},
     "output_type": "display_data"
    },
    {
     "name": "stdout",
     "output_type": "stream",
     "text": [
      "Confusion matrix for:  CatBoostClassifier\n"
     ]
    },
    {
     "data": {
      "text/plain": [
       "array([[7274,   88,   41,    0],\n",
       "       [  61,  349,    8,    0],\n",
       "       [  38,   11,   91,    0],\n",
       "       [   5,    0,    0,   87]], dtype=int64)"
      ]
     },
     "metadata": {},
     "output_type": "display_data"
    },
    {
     "data": {
      "text/html": [
       "<div>\n",
       "<style scoped>\n",
       "    .dataframe tbody tr th:only-of-type {\n",
       "        vertical-align: middle;\n",
       "    }\n",
       "\n",
       "    .dataframe tbody tr th {\n",
       "        vertical-align: top;\n",
       "    }\n",
       "\n",
       "    .dataframe thead th {\n",
       "        text-align: right;\n",
       "    }\n",
       "</style>\n",
       "<table border=\"1\" class=\"dataframe\">\n",
       "  <thead>\n",
       "    <tr style=\"text-align: right;\">\n",
       "      <th></th>\n",
       "      <th>Classifier</th>\n",
       "      <th>Accuracy</th>\n",
       "      <th>Precision</th>\n",
       "      <th>Recall</th>\n",
       "    </tr>\n",
       "    <tr>\n",
       "      <th>FScore</th>\n",
       "      <th></th>\n",
       "      <th></th>\n",
       "      <th></th>\n",
       "      <th></th>\n",
       "    </tr>\n",
       "  </thead>\n",
       "  <tbody>\n",
       "    <tr>\n",
       "      <th>0.8531</th>\n",
       "      <td>CatBoostClassifier</td>\n",
       "      <td>0.9687</td>\n",
       "      <td>0.8537</td>\n",
       "      <td>0.8533</td>\n",
       "    </tr>\n",
       "    <tr>\n",
       "      <th>0.8219</th>\n",
       "      <td>XGBClassifier</td>\n",
       "      <td>0.9651</td>\n",
       "      <td>0.8341</td>\n",
       "      <td>0.8177</td>\n",
       "    </tr>\n",
       "    <tr>\n",
       "      <th>0.8173</th>\n",
       "      <td>Random Forest</td>\n",
       "      <td>0.9616</td>\n",
       "      <td>0.8324</td>\n",
       "      <td>0.8038</td>\n",
       "    </tr>\n",
       "    <tr>\n",
       "      <th>0.8051</th>\n",
       "      <td>Decision Tree</td>\n",
       "      <td>0.9557</td>\n",
       "      <td>0.7910</td>\n",
       "      <td>0.8206</td>\n",
       "    </tr>\n",
       "    <tr>\n",
       "      <th>0.6350</th>\n",
       "      <td>ExtraTrees</td>\n",
       "      <td>0.9413</td>\n",
       "      <td>0.6686</td>\n",
       "      <td>0.6127</td>\n",
       "    </tr>\n",
       "    <tr>\n",
       "      <th>0.4677</th>\n",
       "      <td>Nearest Neighbors</td>\n",
       "      <td>0.9302</td>\n",
       "      <td>0.5953</td>\n",
       "      <td>0.4204</td>\n",
       "    </tr>\n",
       "  </tbody>\n",
       "</table>\n",
       "</div>"
      ],
      "text/plain": [
       "                Classifier  Accuracy  Precision  Recall\n",
       "FScore                                                 \n",
       "0.8531  CatBoostClassifier    0.9687     0.8537  0.8533\n",
       "0.8219       XGBClassifier    0.9651     0.8341  0.8177\n",
       "0.8173       Random Forest    0.9616     0.8324  0.8038\n",
       "0.8051       Decision Tree    0.9557     0.7910  0.8206\n",
       "0.6350          ExtraTrees    0.9413     0.6686  0.6127\n",
       "0.4677   Nearest Neighbors    0.9302     0.5953  0.4204"
      ]
     },
     "metadata": {},
     "output_type": "display_data"
    }
   ],
   "source": [
    "corr_values = get_correlation(data2)\n",
    "X_train2, X_test2, y_train2, y_test2 = traintest_data(data2, corr_values.index,'Class')\n",
    "\n",
    "display(train_getscore(classifiers,X_train2, X_test2, y_train2, y_test2))"
   ]
  },
  {
   "cell_type": "markdown",
   "id": "0080679b",
   "metadata": {},
   "source": [
    "### F1 score has dropped \n",
    "###  Might be discretization is not a valid option\n",
    "###  will check Standardisation\n",
    "### T3 feature is now  seems to be highly correlted with Class"
   ]
  },
  {
   "cell_type": "code",
   "execution_count": 11,
   "id": "594681e3",
   "metadata": {},
   "outputs": [
    {
     "data": {
      "text/plain": [
       "age                   0.049419\n",
       "sex                   0.036009\n",
       "on_thyroxine          0.079947\n",
       "query_hypothyroid     0.050175\n",
       "query_hyperthyroid    0.032031\n",
       "psych                 0.041757\n",
       "TSH_measured          0.062682\n",
       "TSH                   0.223577\n",
       "T3_measured           0.041204\n",
       "T3                    0.142235\n",
       "TT4_measured          0.053423\n",
       "TT4                   0.093558\n",
       "T4U_measured          0.034699\n",
       "FTI_measured          0.034857\n",
       "FTI                   0.087102\n",
       "Name: Class, dtype: float64"
      ]
     },
     "metadata": {},
     "output_type": "display_data"
    },
    {
     "name": "stderr",
     "output_type": "stream",
     "text": [
      "D:\\Apps\\anaconda\\lib\\site-packages\\xgboost\\sklearn.py:1224: UserWarning: The use of label encoder in XGBClassifier is deprecated and will be removed in a future release. To remove this warning, do the following: 1) Pass option use_label_encoder=False when constructing XGBClassifier object; and 2) Encode your labels (y) as integers starting with 0, i.e. 0, 1, 2, ..., [num_class - 1].\n",
      "  warnings.warn(label_encoder_deprecation_msg, UserWarning)\n"
     ]
    },
    {
     "name": "stdout",
     "output_type": "stream",
     "text": [
      "[16:58:59] WARNING: C:/Users/Administrator/workspace/xgboost-win64_release_1.5.0/src/learner.cc:1115: Starting in XGBoost 1.3.0, the default evaluation metric used with the objective 'multi:softprob' was changed from 'merror' to 'mlogloss'. Explicitly set eval_metric if you'd like to restore the old behavior.\n",
      "Confusion matrix for:  XGBClassifier\n"
     ]
    },
    {
     "data": {
      "text/plain": [
       "array([[7254,  115,   33,    1],\n",
       "       [  14,  402,    2,    0],\n",
       "       [  41,    1,   98,    0],\n",
       "       [   8,    0,    0,   84]], dtype=int64)"
      ]
     },
     "metadata": {},
     "output_type": "display_data"
    },
    {
     "name": "stdout",
     "output_type": "stream",
     "text": [
      "Confusion matrix for:  Nearest Neighbors\n"
     ]
    },
    {
     "data": {
      "text/plain": [
       "array([[7335,   41,   17,   10],\n",
       "       [ 337,   78,    3,    0],\n",
       "       [  96,    0,   44,    0],\n",
       "       [  91,    0,    0,    1]], dtype=int64)"
      ]
     },
     "metadata": {},
     "output_type": "display_data"
    },
    {
     "name": "stdout",
     "output_type": "stream",
     "text": [
      "Confusion matrix for:  Decision Tree\n"
     ]
    },
    {
     "data": {
      "text/plain": [
       "array([[7254,   95,   53,    1],\n",
       "       [  81,  337,    0,    0],\n",
       "       [  37,    6,   97,    0],\n",
       "       [   0,    0,    0,   92]], dtype=int64)"
      ]
     },
     "metadata": {},
     "output_type": "display_data"
    },
    {
     "name": "stdout",
     "output_type": "stream",
     "text": [
      "Confusion matrix for:  Random Forest\n"
     ]
    },
    {
     "data": {
      "text/plain": [
       "array([[7269,   91,   43,    0],\n",
       "       [  65,  352,    1,    0],\n",
       "       [  47,    0,   93,    0],\n",
       "       [   7,    0,    0,   85]], dtype=int64)"
      ]
     },
     "metadata": {},
     "output_type": "display_data"
    },
    {
     "name": "stdout",
     "output_type": "stream",
     "text": [
      "Confusion matrix for:  ExtraTrees\n"
     ]
    },
    {
     "data": {
      "text/plain": [
       "array([[7239,  101,   44,   19],\n",
       "       [ 179,  238,    1,    0],\n",
       "       [  52,    0,   88,    0],\n",
       "       [  59,    0,    0,   33]], dtype=int64)"
      ]
     },
     "metadata": {},
     "output_type": "display_data"
    },
    {
     "name": "stdout",
     "output_type": "stream",
     "text": [
      "Confusion matrix for:  CatBoostClassifier\n"
     ]
    },
    {
     "data": {
      "text/plain": [
       "array([[7283,   88,   32,    0],\n",
       "       [  37,  380,    1,    0],\n",
       "       [  52,    0,   88,    0],\n",
       "       [   8,    0,    0,   84]], dtype=int64)"
      ]
     },
     "metadata": {},
     "output_type": "display_data"
    },
    {
     "data": {
      "text/html": [
       "<div>\n",
       "<style scoped>\n",
       "    .dataframe tbody tr th:only-of-type {\n",
       "        vertical-align: middle;\n",
       "    }\n",
       "\n",
       "    .dataframe tbody tr th {\n",
       "        vertical-align: top;\n",
       "    }\n",
       "\n",
       "    .dataframe thead th {\n",
       "        text-align: right;\n",
       "    }\n",
       "</style>\n",
       "<table border=\"1\" class=\"dataframe\">\n",
       "  <thead>\n",
       "    <tr style=\"text-align: right;\">\n",
       "      <th></th>\n",
       "      <th>Classifier</th>\n",
       "      <th>Accuracy</th>\n",
       "      <th>Precision</th>\n",
       "      <th>Recall</th>\n",
       "    </tr>\n",
       "    <tr>\n",
       "      <th>FScore</th>\n",
       "      <th></th>\n",
       "      <th></th>\n",
       "      <th></th>\n",
       "      <th></th>\n",
       "    </tr>\n",
       "  </thead>\n",
       "  <tbody>\n",
       "    <tr>\n",
       "      <th>0.8779</th>\n",
       "      <td>XGBClassifier</td>\n",
       "      <td>0.9733</td>\n",
       "      <td>0.8731</td>\n",
       "      <td>0.8887</td>\n",
       "    </tr>\n",
       "    <tr>\n",
       "      <th>0.8680</th>\n",
       "      <td>CatBoostClassifier</td>\n",
       "      <td>0.9729</td>\n",
       "      <td>0.8815</td>\n",
       "      <td>0.8586</td>\n",
       "    </tr>\n",
       "    <tr>\n",
       "      <th>0.8582</th>\n",
       "      <td>Decision Tree</td>\n",
       "      <td>0.9661</td>\n",
       "      <td>0.8473</td>\n",
       "      <td>0.8697</td>\n",
       "    </tr>\n",
       "    <tr>\n",
       "      <th>0.8581</th>\n",
       "      <td>Random Forest</td>\n",
       "      <td>0.9685</td>\n",
       "      <td>0.8643</td>\n",
       "      <td>0.8531</td>\n",
       "    </tr>\n",
       "    <tr>\n",
       "      <th>0.6754</th>\n",
       "      <td>ExtraTrees</td>\n",
       "      <td>0.9435</td>\n",
       "      <td>0.7400</td>\n",
       "      <td>0.6336</td>\n",
       "    </tr>\n",
       "    <tr>\n",
       "      <th>0.4256</th>\n",
       "      <td>Nearest Neighbors</td>\n",
       "      <td>0.9261</td>\n",
       "      <td>0.5918</td>\n",
       "      <td>0.3756</td>\n",
       "    </tr>\n",
       "  </tbody>\n",
       "</table>\n",
       "</div>"
      ],
      "text/plain": [
       "                Classifier  Accuracy  Precision  Recall\n",
       "FScore                                                 \n",
       "0.8779       XGBClassifier    0.9733     0.8731  0.8887\n",
       "0.8680  CatBoostClassifier    0.9729     0.8815  0.8586\n",
       "0.8582       Decision Tree    0.9661     0.8473  0.8697\n",
       "0.8581       Random Forest    0.9685     0.8643  0.8531\n",
       "0.6754          ExtraTrees    0.9435     0.7400  0.6336\n",
       "0.4256   Nearest Neighbors    0.9261     0.5918  0.3756"
      ]
     },
     "metadata": {},
     "output_type": "display_data"
    }
   ],
   "source": [
    "scaler = MinMaxScaler()\n",
    "data3=pd.DataFrame(scaler.fit_transform(df.drop(columns =['Class'])),columns=data2.columns[:-1])\n",
    "data3['Class'] = df['Class']\n",
    "# data3 = ((df-df.min())/(df.max()-df.min()))*20\n",
    "\n",
    "corr_values = get_correlation(data3)\n",
    "X_train3, X_test3, y_train3, y_test3 = traintest_data(data3, corr_values.index,'Class')\n",
    "\n",
    "display(train_getscore(classifiers,X_train3, X_test3, y_train3, y_test3))"
   ]
  },
  {
   "cell_type": "markdown",
   "id": "46a2960a",
   "metadata": {},
   "source": [
    "### f1 score has risen from last \n",
    "### still the data is imbalanced need to balance the data"
   ]
  },
  {
   "cell_type": "code",
   "execution_count": 12,
   "id": "ba68c5f3",
   "metadata": {},
   "outputs": [
    {
     "name": "stderr",
     "output_type": "stream",
     "text": [
      "D:\\Apps\\anaconda\\lib\\site-packages\\imblearn\\utils\\_validation.py:587: FutureWarning: Pass sampling_strategy=not majority as keyword args. From version 0.9 passing these as positional arguments will result in an error\n",
      "  warnings.warn(\n"
     ]
    },
    {
     "data": {
      "text/plain": [
       "(18788, 15)"
      ]
     },
     "metadata": {},
     "output_type": "display_data"
    },
    {
     "data": {
      "text/plain": [
       "(69180, 15)"
      ]
     },
     "metadata": {},
     "output_type": "display_data"
    },
    {
     "name": "stderr",
     "output_type": "stream",
     "text": [
      "D:\\Apps\\anaconda\\lib\\site-packages\\xgboost\\sklearn.py:1224: UserWarning: The use of label encoder in XGBClassifier is deprecated and will be removed in a future release. To remove this warning, do the following: 1) Pass option use_label_encoder=False when constructing XGBClassifier object; and 2) Encode your labels (y) as integers starting with 0, i.e. 0, 1, 2, ..., [num_class - 1].\n",
      "  warnings.warn(label_encoder_deprecation_msg, UserWarning)\n"
     ]
    },
    {
     "name": "stdout",
     "output_type": "stream",
     "text": [
      "[16:59:09] WARNING: C:/Users/Administrator/workspace/xgboost-win64_release_1.5.0/src/learner.cc:1115: Starting in XGBoost 1.3.0, the default evaluation metric used with the objective 'multi:softprob' was changed from 'merror' to 'mlogloss'. Explicitly set eval_metric if you'd like to restore the old behavior.\n",
      "Confusion matrix for:  XGBClassifier\n"
     ]
    },
    {
     "data": {
      "text/plain": [
       "array([[6990,  146,  266,    1],\n",
       "       [  90, 7273,   40,    0],\n",
       "       [ 181,   76, 7146,    0],\n",
       "       [   0,    0,    0, 7403]], dtype=int64)"
      ]
     },
     "metadata": {},
     "output_type": "display_data"
    },
    {
     "name": "stdout",
     "output_type": "stream",
     "text": [
      "Confusion matrix for:  Nearest Neighbors\n"
     ]
    },
    {
     "data": {
      "text/plain": [
       "array([[6726,  413,  150,  114],\n",
       "       [1826, 5325,  197,   55],\n",
       "       [1211,  154, 5984,   54],\n",
       "       [1509,   63,   75, 5756]], dtype=int64)"
      ]
     },
     "metadata": {},
     "output_type": "display_data"
    },
    {
     "name": "stdout",
     "output_type": "stream",
     "text": [
      "Confusion matrix for:  Decision Tree\n"
     ]
    },
    {
     "data": {
      "text/plain": [
       "array([[7229,   95,   78,    1],\n",
       "       [ 677, 6668,   58,    0],\n",
       "       [1218,   52, 6133,    0],\n",
       "       [   0,    0,    0, 7403]], dtype=int64)"
      ]
     },
     "metadata": {},
     "output_type": "display_data"
    },
    {
     "name": "stdout",
     "output_type": "stream",
     "text": [
      "Confusion matrix for:  Random Forest\n"
     ]
    },
    {
     "data": {
      "text/plain": [
       "array([[7240,   99,   64,    0],\n",
       "       [ 295, 7079,   29,    0],\n",
       "       [ 627,   57, 6719,    0],\n",
       "       [  73,    0,    0, 7330]], dtype=int64)"
      ]
     },
     "metadata": {},
     "output_type": "display_data"
    },
    {
     "name": "stdout",
     "output_type": "stream",
     "text": [
      "Confusion matrix for:  ExtraTrees\n"
     ]
    },
    {
     "data": {
      "text/plain": [
       "array([[7187,  123,   64,   29],\n",
       "       [1000, 6356,   47,    0],\n",
       "       [1090,   62, 6251,    0],\n",
       "       [1017,    2,    0, 6384]], dtype=int64)"
      ]
     },
     "metadata": {},
     "output_type": "display_data"
    },
    {
     "name": "stdout",
     "output_type": "stream",
     "text": [
      "Confusion matrix for:  CatBoostClassifier\n"
     ]
    },
    {
     "data": {
      "text/plain": [
       "array([[7178,  118,  105,    2],\n",
       "       [  80, 7273,   50,    0],\n",
       "       [ 249,   70, 7084,    0],\n",
       "       [   0,    0,    0, 7403]], dtype=int64)"
      ]
     },
     "metadata": {},
     "output_type": "display_data"
    },
    {
     "data": {
      "text/html": [
       "<div>\n",
       "<style scoped>\n",
       "    .dataframe tbody tr th:only-of-type {\n",
       "        vertical-align: middle;\n",
       "    }\n",
       "\n",
       "    .dataframe tbody tr th {\n",
       "        vertical-align: top;\n",
       "    }\n",
       "\n",
       "    .dataframe thead th {\n",
       "        text-align: right;\n",
       "    }\n",
       "</style>\n",
       "<table border=\"1\" class=\"dataframe\">\n",
       "  <thead>\n",
       "    <tr style=\"text-align: right;\">\n",
       "      <th></th>\n",
       "      <th>Classifier</th>\n",
       "      <th>Accuracy</th>\n",
       "      <th>Precision</th>\n",
       "      <th>Recall</th>\n",
       "    </tr>\n",
       "    <tr>\n",
       "      <th>FScore</th>\n",
       "      <th></th>\n",
       "      <th></th>\n",
       "      <th></th>\n",
       "      <th></th>\n",
       "    </tr>\n",
       "  </thead>\n",
       "  <tbody>\n",
       "    <tr>\n",
       "      <th>0.9772</th>\n",
       "      <td>CatBoostClassifier</td>\n",
       "      <td>0.9772</td>\n",
       "      <td>0.9773</td>\n",
       "      <td>0.9772</td>\n",
       "    </tr>\n",
       "    <tr>\n",
       "      <th>0.9729</th>\n",
       "      <td>XGBClassifier</td>\n",
       "      <td>0.9730</td>\n",
       "      <td>0.9730</td>\n",
       "      <td>0.9730</td>\n",
       "    </tr>\n",
       "    <tr>\n",
       "      <th>0.9584</th>\n",
       "      <td>Random Forest</td>\n",
       "      <td>0.9580</td>\n",
       "      <td>0.9610</td>\n",
       "      <td>0.9580</td>\n",
       "    </tr>\n",
       "    <tr>\n",
       "      <th>0.9275</th>\n",
       "      <td>Decision Tree</td>\n",
       "      <td>0.9264</td>\n",
       "      <td>0.9372</td>\n",
       "      <td>0.9264</td>\n",
       "    </tr>\n",
       "    <tr>\n",
       "      <th>0.8890</th>\n",
       "      <td>ExtraTrees</td>\n",
       "      <td>0.8840</td>\n",
       "      <td>0.9119</td>\n",
       "      <td>0.8840</td>\n",
       "    </tr>\n",
       "    <tr>\n",
       "      <th>0.8111</th>\n",
       "      <td>Nearest Neighbors</td>\n",
       "      <td>0.8034</td>\n",
       "      <td>0.8469</td>\n",
       "      <td>0.8034</td>\n",
       "    </tr>\n",
       "  </tbody>\n",
       "</table>\n",
       "</div>"
      ],
      "text/plain": [
       "                Classifier  Accuracy  Precision  Recall\n",
       "FScore                                                 \n",
       "0.9772  CatBoostClassifier    0.9772     0.9773  0.9772\n",
       "0.9729       XGBClassifier    0.9730     0.9730  0.9730\n",
       "0.9584       Random Forest    0.9580     0.9610  0.9580\n",
       "0.9275       Decision Tree    0.9264     0.9372  0.9264\n",
       "0.8890          ExtraTrees    0.8840     0.9119  0.8840\n",
       "0.8111   Nearest Neighbors    0.8034     0.8469  0.8034"
      ]
     },
     "metadata": {},
     "output_type": "display_data"
    }
   ],
   "source": [
    "smote = SMOTE('not majority',random_state = 1)\n",
    "X_train_sm, y_train_sm = smote.fit_resample(X_train3,y_train3)\n",
    "X_test_sm, y_test_sm = smote.fit_resample(X_test3,y_test3)\n",
    "display(X_train3.shape)\n",
    "display(X_train_sm.shape)\n",
    "display(train_getscore(classifiers,X_train_sm, X_test_sm, y_train_sm, y_test_sm))"
   ]
  },
  {
   "cell_type": "code",
   "execution_count": 13,
   "id": "d165ee9d",
   "metadata": {},
   "outputs": [
    {
     "data": {
      "text/plain": [
       "0    450\n",
       "1    450\n",
       "2    450\n",
       "3    292\n",
       "Name: Class, dtype: int64"
      ]
     },
     "execution_count": 13,
     "metadata": {},
     "output_type": "execute_result"
    }
   ],
   "source": [
    "\n",
    "## Under sampling method\n",
    "df_negative = data3[data3.Class==0]\n",
    "df_hypothyroid = data3[data3.Class==1]\n",
    "df_hyperthyroid = data3[data3.Class==2]\n",
    "df_sickeuthyroid = data3[data3.Class==3]\n",
    "\n",
    "df_negative_downsampled = resample(df_negative,replace=False,n_samples=450,random_state=1)\n",
    "df_hypothyroid_downsampled = resample(df_hypothyroid,replace=False,n_samples=450,random_state=1)\n",
    "df_hyperthyroid_downsampled = resample(df_hyperthyroid,replace=False,n_samples=450,random_state=1)\n",
    "#df_sickeuthyroid_downsampled = resample(df_sickeuthyroid,replace=False,n_samples=450,random_state=1)\n",
    "\n",
    "\n",
    "\n",
    "df_downsampled = pd.concat([df_negative_downsampled,df_hypothyroid_downsampled,df_hyperthyroid,df_sickeuthyroid])\n",
    "df_downsampled.Class.value_counts()"
   ]
  },
  {
   "cell_type": "code",
   "execution_count": 14,
   "id": "4fde365a",
   "metadata": {},
   "outputs": [
    {
     "name": "stdout",
     "output_type": "stream",
     "text": [
      "[17:00:05] WARNING: C:/Users/Administrator/workspace/xgboost-win64_release_1.5.0/src/learner.cc:1115: Starting in XGBoost 1.3.0, the default evaluation metric used with the objective 'multi:softprob' was changed from 'merror' to 'mlogloss'. Explicitly set eval_metric if you'd like to restore the old behavior.\n"
     ]
    },
    {
     "name": "stderr",
     "output_type": "stream",
     "text": [
      "D:\\Apps\\anaconda\\lib\\site-packages\\xgboost\\sklearn.py:1224: UserWarning: The use of label encoder in XGBClassifier is deprecated and will be removed in a future release. To remove this warning, do the following: 1) Pass option use_label_encoder=False when constructing XGBClassifier object; and 2) Encode your labels (y) as integers starting with 0, i.e. 0, 1, 2, ..., [num_class - 1].\n",
      "  warnings.warn(label_encoder_deprecation_msg, UserWarning)\n"
     ]
    },
    {
     "name": "stdout",
     "output_type": "stream",
     "text": [
      "Confusion matrix for:  XGBClassifier\n"
     ]
    },
    {
     "data": {
      "text/plain": [
       "array([[123,   4,   7,   1],\n",
       "       [  2, 132,   2,   0],\n",
       "       [  0,   1, 140,   0],\n",
       "       [  0,   0,   0,  81]], dtype=int64)"
      ]
     },
     "metadata": {},
     "output_type": "display_data"
    },
    {
     "name": "stdout",
     "output_type": "stream",
     "text": [
      "Confusion matrix for:  Nearest Neighbors\n"
     ]
    },
    {
     "data": {
      "text/plain": [
       "array([[ 92,  24,   8,  11],\n",
       "       [ 48,  81,   5,   2],\n",
       "       [ 12,  13, 116,   0],\n",
       "       [  1,   4,   3,  73]], dtype=int64)"
      ]
     },
     "metadata": {},
     "output_type": "display_data"
    },
    {
     "name": "stdout",
     "output_type": "stream",
     "text": [
      "Confusion matrix for:  Decision Tree\n"
     ]
    },
    {
     "data": {
      "text/plain": [
       "array([[121,   4,   9,   1],\n",
       "       [  4, 128,   4,   0],\n",
       "       [  3,   2, 136,   0],\n",
       "       [  0,   0,   0,  81]], dtype=int64)"
      ]
     },
     "metadata": {},
     "output_type": "display_data"
    },
    {
     "name": "stdout",
     "output_type": "stream",
     "text": [
      "Confusion matrix for:  Random Forest\n"
     ]
    },
    {
     "data": {
      "text/plain": [
       "array([[126,   4,   5,   0],\n",
       "       [  3, 131,   2,   0],\n",
       "       [  0,   0, 141,   0],\n",
       "       [  0,   0,   0,  81]], dtype=int64)"
      ]
     },
     "metadata": {},
     "output_type": "display_data"
    },
    {
     "name": "stdout",
     "output_type": "stream",
     "text": [
      "Confusion matrix for:  ExtraTrees\n"
     ]
    },
    {
     "data": {
      "text/plain": [
       "array([[111,  12,   8,   4],\n",
       "       [ 11, 124,   1,   0],\n",
       "       [  3,   3, 135,   0],\n",
       "       [  0,   0,   0,  81]], dtype=int64)"
      ]
     },
     "metadata": {},
     "output_type": "display_data"
    },
    {
     "name": "stdout",
     "output_type": "stream",
     "text": [
      "Confusion matrix for:  CatBoostClassifier\n"
     ]
    },
    {
     "data": {
      "text/plain": [
       "array([[124,   4,   5,   2],\n",
       "       [  3, 131,   2,   0],\n",
       "       [  1,   0, 140,   0],\n",
       "       [  0,   0,   0,  81]], dtype=int64)"
      ]
     },
     "metadata": {},
     "output_type": "display_data"
    },
    {
     "data": {
      "text/html": [
       "<div>\n",
       "<style scoped>\n",
       "    .dataframe tbody tr th:only-of-type {\n",
       "        vertical-align: middle;\n",
       "    }\n",
       "\n",
       "    .dataframe tbody tr th {\n",
       "        vertical-align: top;\n",
       "    }\n",
       "\n",
       "    .dataframe thead th {\n",
       "        text-align: right;\n",
       "    }\n",
       "</style>\n",
       "<table border=\"1\" class=\"dataframe\">\n",
       "  <thead>\n",
       "    <tr style=\"text-align: right;\">\n",
       "      <th></th>\n",
       "      <th>Classifier</th>\n",
       "      <th>Accuracy</th>\n",
       "      <th>Precision</th>\n",
       "      <th>Recall</th>\n",
       "    </tr>\n",
       "    <tr>\n",
       "      <th>FScore</th>\n",
       "      <th></th>\n",
       "      <th></th>\n",
       "      <th></th>\n",
       "      <th></th>\n",
       "    </tr>\n",
       "  </thead>\n",
       "  <tbody>\n",
       "    <tr>\n",
       "      <th>0.9743</th>\n",
       "      <td>Random Forest</td>\n",
       "      <td>0.9716</td>\n",
       "      <td>0.9750</td>\n",
       "      <td>0.9741</td>\n",
       "    </tr>\n",
       "    <tr>\n",
       "      <th>0.9681</th>\n",
       "      <td>XGBClassifier</td>\n",
       "      <td>0.9655</td>\n",
       "      <td>0.9687</td>\n",
       "      <td>0.9687</td>\n",
       "    </tr>\n",
       "    <tr>\n",
       "      <th>0.9674</th>\n",
       "      <td>CatBoostClassifier</td>\n",
       "      <td>0.9655</td>\n",
       "      <td>0.9669</td>\n",
       "      <td>0.9687</td>\n",
       "    </tr>\n",
       "    <tr>\n",
       "      <th>0.9500</th>\n",
       "      <td>Decision Tree</td>\n",
       "      <td>0.9452</td>\n",
       "      <td>0.9503</td>\n",
       "      <td>0.9505</td>\n",
       "    </tr>\n",
       "    <tr>\n",
       "      <th>0.9197</th>\n",
       "      <td>ExtraTrees</td>\n",
       "      <td>0.9148</td>\n",
       "      <td>0.9176</td>\n",
       "      <td>0.9229</td>\n",
       "    </tr>\n",
       "    <tr>\n",
       "      <th>0.7477</th>\n",
       "      <td>Nearest Neighbors</td>\n",
       "      <td>0.7343</td>\n",
       "      <td>0.7482</td>\n",
       "      <td>0.7502</td>\n",
       "    </tr>\n",
       "  </tbody>\n",
       "</table>\n",
       "</div>"
      ],
      "text/plain": [
       "                Classifier  Accuracy  Precision  Recall\n",
       "FScore                                                 \n",
       "0.9743       Random Forest    0.9716     0.9750  0.9741\n",
       "0.9681       XGBClassifier    0.9655     0.9687  0.9687\n",
       "0.9674  CatBoostClassifier    0.9655     0.9669  0.9687\n",
       "0.9500       Decision Tree    0.9452     0.9503  0.9505\n",
       "0.9197          ExtraTrees    0.9148     0.9176  0.9229\n",
       "0.7477   Nearest Neighbors    0.7343     0.7482  0.7502"
      ]
     },
     "metadata": {},
     "output_type": "display_data"
    }
   ],
   "source": [
    "X_train4, X_test4, y_train4, y_test4 = traintest_data(df_downsampled,corr_values.index,'Class')\n",
    "display(train_getscore(classifiers,X_train4, X_test4, y_train4, y_test4))"
   ]
  },
  {
   "cell_type": "code",
   "execution_count": 15,
   "id": "431813b9",
   "metadata": {},
   "outputs": [],
   "source": [
    "# final for generating pickle file"
   ]
  },
  {
   "cell_type": "code",
   "execution_count": 16,
   "id": "3956a71b",
   "metadata": {},
   "outputs": [],
   "source": [
    "import numpy as np\n",
    "import pandas as pd\n",
    "from sklearn.model_selection import train_test_split\n",
    "import os\n",
    "from sklearn.ensemble import RandomForestClassifier\n",
    "import pickle\n",
    "from sklearn import metrics\n",
    "from sklearn.metrics import confusion_matrix\n",
    "from sklearn.preprocessing import LabelEncoder\n",
    "from sklearn.preprocessing import MinMaxScaler\n",
    "from imblearn.over_sampling import SMOTE\n",
    "from sklearn.utils import resample\n",
    "import gzip, pickle, pickletools"
   ]
  },
  {
   "cell_type": "code",
   "execution_count": 17,
   "id": "6cf32d54",
   "metadata": {},
   "outputs": [
    {
     "data": {
      "text/html": [
       "<div>\n",
       "<style scoped>\n",
       "    .dataframe tbody tr th:only-of-type {\n",
       "        vertical-align: middle;\n",
       "    }\n",
       "\n",
       "    .dataframe tbody tr th {\n",
       "        vertical-align: top;\n",
       "    }\n",
       "\n",
       "    .dataframe thead th {\n",
       "        text-align: right;\n",
       "    }\n",
       "</style>\n",
       "<table border=\"1\" class=\"dataframe\">\n",
       "  <thead>\n",
       "    <tr style=\"text-align: right;\">\n",
       "      <th></th>\n",
       "      <th>age</th>\n",
       "      <th>sex</th>\n",
       "      <th>on_thyroxine</th>\n",
       "      <th>query_on_thyroxine</th>\n",
       "      <th>on_antithyroid_medication</th>\n",
       "      <th>sick</th>\n",
       "      <th>pregnant</th>\n",
       "      <th>thyroid_surgery</th>\n",
       "      <th>I131_treatment</th>\n",
       "      <th>query_hypothyroid</th>\n",
       "      <th>...</th>\n",
       "      <th>TSH</th>\n",
       "      <th>T3_measured</th>\n",
       "      <th>T3</th>\n",
       "      <th>TT4_measured</th>\n",
       "      <th>TT4</th>\n",
       "      <th>T4U_measured</th>\n",
       "      <th>T4U</th>\n",
       "      <th>FTI_measured</th>\n",
       "      <th>FTI</th>\n",
       "      <th>Class</th>\n",
       "    </tr>\n",
       "  </thead>\n",
       "  <tbody>\n",
       "    <tr>\n",
       "      <th>0</th>\n",
       "      <td>46.0</td>\n",
       "      <td>0.0</td>\n",
       "      <td>0</td>\n",
       "      <td>0</td>\n",
       "      <td>0</td>\n",
       "      <td>0</td>\n",
       "      <td>0</td>\n",
       "      <td>0</td>\n",
       "      <td>0.0</td>\n",
       "      <td>0</td>\n",
       "      <td>...</td>\n",
       "      <td>0.98000</td>\n",
       "      <td>0</td>\n",
       "      <td>2.022785</td>\n",
       "      <td>1</td>\n",
       "      <td>109.0</td>\n",
       "      <td>1</td>\n",
       "      <td>0.910000</td>\n",
       "      <td>1</td>\n",
       "      <td>120.000000</td>\n",
       "      <td>0</td>\n",
       "    </tr>\n",
       "    <tr>\n",
       "      <th>1</th>\n",
       "      <td>70.0</td>\n",
       "      <td>1.0</td>\n",
       "      <td>1</td>\n",
       "      <td>0</td>\n",
       "      <td>0</td>\n",
       "      <td>0</td>\n",
       "      <td>0</td>\n",
       "      <td>0</td>\n",
       "      <td>0.0</td>\n",
       "      <td>0</td>\n",
       "      <td>...</td>\n",
       "      <td>0.16000</td>\n",
       "      <td>1</td>\n",
       "      <td>1.900000</td>\n",
       "      <td>1</td>\n",
       "      <td>175.0</td>\n",
       "      <td>0</td>\n",
       "      <td>0.983264</td>\n",
       "      <td>0</td>\n",
       "      <td>-17.987976</td>\n",
       "      <td>0</td>\n",
       "    </tr>\n",
       "    <tr>\n",
       "      <th>2</th>\n",
       "      <td>70.0</td>\n",
       "      <td>1.0</td>\n",
       "      <td>0</td>\n",
       "      <td>0</td>\n",
       "      <td>0</td>\n",
       "      <td>0</td>\n",
       "      <td>0</td>\n",
       "      <td>0</td>\n",
       "      <td>0.0</td>\n",
       "      <td>0</td>\n",
       "      <td>...</td>\n",
       "      <td>0.72000</td>\n",
       "      <td>1</td>\n",
       "      <td>1.200000</td>\n",
       "      <td>1</td>\n",
       "      <td>61.0</td>\n",
       "      <td>1</td>\n",
       "      <td>0.870000</td>\n",
       "      <td>1</td>\n",
       "      <td>70.000000</td>\n",
       "      <td>0</td>\n",
       "    </tr>\n",
       "    <tr>\n",
       "      <th>3</th>\n",
       "      <td>18.0</td>\n",
       "      <td>1.0</td>\n",
       "      <td>1</td>\n",
       "      <td>0</td>\n",
       "      <td>0</td>\n",
       "      <td>0</td>\n",
       "      <td>0</td>\n",
       "      <td>0</td>\n",
       "      <td>0.0</td>\n",
       "      <td>0</td>\n",
       "      <td>...</td>\n",
       "      <td>0.03000</td>\n",
       "      <td>0</td>\n",
       "      <td>2.022743</td>\n",
       "      <td>1</td>\n",
       "      <td>183.0</td>\n",
       "      <td>1</td>\n",
       "      <td>1.300000</td>\n",
       "      <td>1</td>\n",
       "      <td>141.000000</td>\n",
       "      <td>0</td>\n",
       "    </tr>\n",
       "    <tr>\n",
       "      <th>4</th>\n",
       "      <td>59.0</td>\n",
       "      <td>1.0</td>\n",
       "      <td>0</td>\n",
       "      <td>0</td>\n",
       "      <td>0</td>\n",
       "      <td>0</td>\n",
       "      <td>0</td>\n",
       "      <td>0</td>\n",
       "      <td>0.0</td>\n",
       "      <td>0</td>\n",
       "      <td>...</td>\n",
       "      <td>0.72155</td>\n",
       "      <td>0</td>\n",
       "      <td>2.022729</td>\n",
       "      <td>1</td>\n",
       "      <td>72.0</td>\n",
       "      <td>1</td>\n",
       "      <td>0.920000</td>\n",
       "      <td>1</td>\n",
       "      <td>78.000000</td>\n",
       "      <td>0</td>\n",
       "    </tr>\n",
       "  </tbody>\n",
       "</table>\n",
       "<p>5 rows × 27 columns</p>\n",
       "</div>"
      ],
      "text/plain": [
       "    age  sex  on_thyroxine  query_on_thyroxine  on_antithyroid_medication  \\\n",
       "0  46.0  0.0             0                   0                          0   \n",
       "1  70.0  1.0             1                   0                          0   \n",
       "2  70.0  1.0             0                   0                          0   \n",
       "3  18.0  1.0             1                   0                          0   \n",
       "4  59.0  1.0             0                   0                          0   \n",
       "\n",
       "   sick  pregnant  thyroid_surgery  I131_treatment  query_hypothyroid  ...  \\\n",
       "0     0         0                0             0.0                  0  ...   \n",
       "1     0         0                0             0.0                  0  ...   \n",
       "2     0         0                0             0.0                  0  ...   \n",
       "3     0         0                0             0.0                  0  ...   \n",
       "4     0         0                0             0.0                  0  ...   \n",
       "\n",
       "       TSH  T3_measured        T3  TT4_measured    TT4  T4U_measured  \\\n",
       "0  0.98000            0  2.022785             1  109.0             1   \n",
       "1  0.16000            1  1.900000             1  175.0             0   \n",
       "2  0.72000            1  1.200000             1   61.0             1   \n",
       "3  0.03000            0  2.022743             1  183.0             1   \n",
       "4  0.72155            0  2.022729             1   72.0             1   \n",
       "\n",
       "        T4U  FTI_measured         FTI  Class  \n",
       "0  0.910000             1  120.000000      0  \n",
       "1  0.983264             0  -17.987976      0  \n",
       "2  0.870000             1   70.000000      0  \n",
       "3  1.300000             1  141.000000      0  \n",
       "4  0.920000             1   78.000000      0  \n",
       "\n",
       "[5 rows x 27 columns]"
      ]
     },
     "execution_count": 17,
     "metadata": {},
     "output_type": "execute_result"
    }
   ],
   "source": [
    "dir_path_post = '../cleaned_processed_data'\n",
    "df = pd.read_csv(os.path.join(dir_path_post,'stage02_preprocessed.csv'))\n",
    "df.head(5)"
   ]
  },
  {
   "cell_type": "code",
   "execution_count": 18,
   "id": "26f954ee",
   "metadata": {},
   "outputs": [],
   "source": [
    "\n",
    "\n",
    "def get_correlation(df):\n",
    "    corr_values = abs(df.corr(method='spearman')['Class'])\n",
    "    corr_values = corr_values.drop('Class')\n",
    "    corr_values = corr_values[corr_values > 0.03]\n",
    "    display(corr_values)\n",
    "    return corr_values\n",
    "\n",
    "def traintest_data(df, features, label):\n",
    "    X = df[features]\n",
    "    Y = df[label]\n",
    "    X_train, X_test, y_train, y_test = train_test_split(X,Y, test_size=0.30, random_state=42) \n",
    "    return X_train, X_test, y_train, y_test\n",
    "\n",
    "\n",
    "def scaled_df(df):\n",
    "    scaler = MinMaxScaler()\n",
    "    \n",
    "    data=pd.DataFrame(scaler.fit_transform(df.drop(columns =['Class'])),columns=df.columns[:-1])\n",
    "    pickle.dump(scaler, open('../model_scaler_picklefile/thyroid_scaler.pickle','wb'))\n",
    "    data['Class'] = df['Class']\n",
    "    return data\n",
    "\n",
    "def smote_resampled(X_train, X_test, y_train, y_test):\n",
    "    smote = SMOTE('not majority',random_state = 1)\n",
    "    X_train_sm, y_train_sm = smote.fit_resample(X_train,y_train)\n",
    "    X_test_sm, y_test_sm = smote.fit_resample(X_test,y_test)\n",
    "    return X_train_sm,X_test_sm,y_train_sm,y_test_sm\n",
    "\n",
    "\n",
    "def under_sampled(df):\n",
    "    df_negative = df[df.Class==0]\n",
    "    df_hypothyroid = df[df.Class==1]\n",
    "    df_hyperthyroid = df[df.Class==2]\n",
    "    df_sickeuthyroid = df[df.Class==3]\n",
    "\n",
    "    df_negative_downsampled = resample(df_negative,replace=False,n_samples=450,random_state=1)\n",
    "    df_hypothyroid_downsampled = resample(df_hypothyroid,replace=False,n_samples=450,random_state=1)\n",
    "    df_hyperthyroid_downsampled = resample(df_hyperthyroid,replace=False,n_samples=450,random_state=1)\n",
    "    \n",
    "    df_downsampled = pd.concat([df_negative_downsampled,df_hypothyroid_downsampled,df_hyperthyroid,df_sickeuthyroid])\n",
    "    return df_downsampled"
   ]
  },
  {
   "cell_type": "code",
   "execution_count": 19,
   "id": "27ad8ae6",
   "metadata": {},
   "outputs": [
    {
     "data": {
      "text/plain": [
       "(0.9749543147798961, 0.9741421568627451, 0.974278417288734)"
      ]
     },
     "execution_count": 19,
     "metadata": {},
     "output_type": "execute_result"
    }
   ],
   "source": [
    "data = df.copy()\n",
    "\n",
    "#### List of selected features\n",
    "selected_features = ['age', 'sex', 'on_thyroxine', 'query_hypothyroid', 'query_hyperthyroid',\n",
    "       'psych', 'TSH_measured', 'TSH', 'T3_measured', 'T3', 'TT4_measured',\n",
    "       'TT4', 'T4U_measured', 'FTI_measured', 'FTI']\n",
    "all_data = ['age', 'sex', 'on_thyroxine', 'query_hypothyroid', 'query_hyperthyroid',\n",
    "       'psych', 'TSH_measured', 'TSH', 'T3_measured', 'T3', 'TT4_measured',\n",
    "       'TT4', 'T4U_measured', 'FTI_measured', 'FTI','Class']\n",
    "data = scaled_df(df[all_data])\n",
    "df_downsampled = under_sampled(data[all_data])\n",
    "X_train_final, X_test_final, y_train_final, y_test_final = traintest_data(df_downsampled,selected_features,'Class')\n",
    "rfc = RandomForestClassifier(class_weight = 'balanced',random_state = 10)\n",
    "rfc.fit(X_train_final,y_train_final)\n",
    "y_pred = rfc.predict(X_test_final)\n",
    "\n",
    "precision_score,recall_score,f_score,support = metrics.precision_recall_fscore_support(y_test_final,y_pred,average='macro')\n",
    "precision_score,recall_score,f_score"
   ]
  },
  {
   "cell_type": "raw",
   "id": "87353941",
   "metadata": {},
   "source": [
    "# discretization_columns = ['age','TSH','T3','TT4','T4U','FTI']\n",
    "data = df.copy()\n",
    "# for col in discretization_columns:\n",
    "#     data[col] = fdiscretizer(col,data)\n",
    "# scaler = MinMaxScaler()\n",
    "# data=pd.DataFrame(scaler.fit_transform(df.drop(columns =['Class'])),columns=data2.columns[:-1])\n",
    "# data['Class'] = df['Class']\n",
    "\n",
    "data = scaled_df(df)\n",
    "\n",
    "corr_values = get_correlation(data)\n",
    "X_train, X_test, y_train, y_test = traintest_data(data, corr_values.index,'Class')\n",
    "\n",
    "X_train_sm,X_test_sm,y_train_sm,y_test_sm = smote_resampled(X_train, X_test, y_train, y_test)\n",
    "df_downsampled = under_sampled(data)\n",
    "X_train_final, X_test_final, y_train_final, y_test_final = traintest_data(df_downsampled,corr_values.index,'Class')\n",
    "\n",
    "\n",
    "\n",
    "# Model\n",
    "rfc = RandomForestClassifier(class_weight = 'balanced',random_state = 10)\n",
    "rfc.fit(X_train_final,y_train_final)\n",
    "y_pred = rfc.predict(X_test_final)\n",
    "\n",
    "precision_score,recall_score,f_score,support = metrics.precision_recall_fscore_support(y_test_final,y_pred,average='macro')"
   ]
  },
  {
   "cell_type": "code",
   "execution_count": null,
   "id": "b7dfe1cb",
   "metadata": {},
   "outputs": [],
   "source": []
  },
  {
   "cell_type": "markdown",
   "id": "a1bb8201",
   "metadata": {},
   "source": [
    "# model pickle"
   ]
  },
  {
   "cell_type": "code",
   "execution_count": 20,
   "id": "1408f7d4",
   "metadata": {},
   "outputs": [],
   "source": [
    "filepath = os.path.join(\"../model_scaler_picklefile\",\"thyroid_model.pkl\")\n",
    "with gzip.open(filepath, \"wb\") as f:\n",
    "    pickled = pickle.dumps(rfc)\n",
    "    optimized_pickle = pickletools.optimize(pickled)\n",
    "    f.write(optimized_pickle)"
   ]
  },
  {
   "cell_type": "code",
   "execution_count": null,
   "id": "434ced05",
   "metadata": {},
   "outputs": [],
   "source": []
  },
  {
   "cell_type": "code",
   "execution_count": 21,
   "id": "7a56bf25",
   "metadata": {},
   "outputs": [],
   "source": [
    "#### List of selected features\n",
    "selected_features = ['age', 'sex', 'on_thyroxine', 'query_hypothyroid', 'query_hyperthyroid',\n",
    "       'psych', 'TSH_measured', 'TSH', 'T3_measured', 'T3', 'TT4_measured',\n",
    "       'TT4', 'T4U_measured', 'FTI_measured', 'FTI']"
   ]
  },
  {
   "cell_type": "code",
   "execution_count": 22,
   "id": "0624ad3c",
   "metadata": {},
   "outputs": [
    {
     "data": {
      "text/plain": [
       "array([ 7.00000000e+01,  1.00000000e+00,  1.00000000e+00,  0.00000000e+00,\n",
       "        0.00000000e+00,  0.00000000e+00,  1.00000000e+00,  1.60000000e-01,\n",
       "        1.00000000e+00,  1.90000000e+00,  1.00000000e+00,  1.75000000e+02,\n",
       "        0.00000000e+00,  0.00000000e+00, -1.79879763e+01])"
      ]
     },
     "execution_count": 22,
     "metadata": {},
     "output_type": "execute_result"
    }
   ],
   "source": [
    "df[selected_features].iloc[1,:].values"
   ]
  },
  {
   "cell_type": "code",
   "execution_count": null,
   "id": "d2e25ddf",
   "metadata": {},
   "outputs": [],
   "source": []
  }
 ],
 "metadata": {
  "kernelspec": {
   "display_name": "Python 3",
   "language": "python",
   "name": "python3"
  },
  "language_info": {
   "codemirror_mode": {
    "name": "ipython",
    "version": 3
   },
   "file_extension": ".py",
   "mimetype": "text/x-python",
   "name": "python",
   "nbconvert_exporter": "python",
   "pygments_lexer": "ipython3",
   "version": "3.8.8"
  }
 },
 "nbformat": 4,
 "nbformat_minor": 5
}
