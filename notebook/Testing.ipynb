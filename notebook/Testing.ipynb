{
 "cells": [
  {
   "cell_type": "code",
   "execution_count": 1,
   "id": "ea693656",
   "metadata": {},
   "outputs": [],
   "source": [
    "import pickle,gzip"
   ]
  },
  {
   "cell_type": "code",
   "execution_count": 2,
   "id": "c80d2068",
   "metadata": {},
   "outputs": [],
   "source": [
    "model= pickle.load(gzip.open('../model_scaler_picklefile/thyroid_model.pkl', 'rb'), encoding ='latin1' )\n",
    "scaling = pickle.load(open(\"../model_scaler_picklefile/thyroid_scaler.pickle\", \"rb\"))                     \n"
   ]
  },
  {
   "cell_type": "markdown",
   "id": "2dd4237c",
   "metadata": {},
   "source": [
    "f = gzip.open('../model_scaler_picklefile/thyroid_model.pkl', 'rb')\n",
    "scaling = pickle.load(f, encoding ='latin1')"
   ]
  },
  {
   "cell_type": "markdown",
   "id": "a5ae798b",
   "metadata": {},
   "source": [
    "# testing"
   ]
  },
  {
   "cell_type": "code",
   "execution_count": 6,
   "id": "76eaf8d7",
   "metadata": {},
   "outputs": [],
   "source": [
    "import pandas as pd\n",
    "import os\n",
    "dir_path_post = '../cleaned_processed_data'\n",
    "df = pd.read_csv(os.path.join(dir_path_post,'stage02_preprocessed.csv'))\n",
    "selected_features = ['age', 'sex', 'on_thyroxine', 'query_hypothyroid', 'query_hyperthyroid',\n",
    "       'psych', 'TSH_measured', 'TSH', 'T3_measured', 'T3', 'TT4_measured',\n",
    "       'TT4', 'T4U_measured', 'FTI_measured', 'FTI']\n",
    "test1 = df[selected_features].iloc[1,:].values\n",
    "test2 = df[selected_features].iloc[270,:].values\n",
    "test1_result = df['Class'][1]\n",
    "test2_result = df['Class'][270]"
   ]
  },
  {
   "cell_type": "code",
   "execution_count": 7,
   "id": "f1c0f820",
   "metadata": {},
   "outputs": [],
   "source": [
    "import numpy as np\n",
    "input_scaled = scaling.transform([test1])\n",
    "input_final = np.array(input_scaled).reshape(1,-1)\n",
    "predict1 = model.predict(input_final)\n",
    "\n",
    "\n",
    "input_scaled = scaling.transform([test2])\n",
    "input_final = np.array(input_scaled).reshape(1,-1)\n",
    "predict2 = model.predict(input_final)"
   ]
  },
  {
   "cell_type": "code",
   "execution_count": null,
   "id": "c3a2409c",
   "metadata": {},
   "outputs": [],
   "source": [
    "\n"
   ]
  },
  {
   "cell_type": "code",
   "execution_count": 8,
   "id": "a61ba5b9",
   "metadata": {},
   "outputs": [
    {
     "name": "stdout",
     "output_type": "stream",
     "text": [
      "[0] 0\n",
      "[0] 0\n"
     ]
    }
   ],
   "source": [
    "print(predict1,test1_result)\n",
    "print(predict2,test2_result)"
   ]
  },
  {
   "cell_type": "code",
   "execution_count": null,
   "id": "e304a629",
   "metadata": {},
   "outputs": [],
   "source": []
  }
 ],
 "metadata": {
  "kernelspec": {
   "display_name": "Python 3",
   "language": "python",
   "name": "python3"
  },
  "language_info": {
   "codemirror_mode": {
    "name": "ipython",
    "version": 3
   },
   "file_extension": ".py",
   "mimetype": "text/x-python",
   "name": "python",
   "nbconvert_exporter": "python",
   "pygments_lexer": "ipython3",
   "version": "3.8.8"
  }
 },
 "nbformat": 4,
 "nbformat_minor": 5
}
