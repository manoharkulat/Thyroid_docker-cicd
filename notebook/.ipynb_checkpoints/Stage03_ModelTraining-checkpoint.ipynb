{
 "cells": [
  {
   "cell_type": "code",
   "execution_count": 7,
   "metadata": {},
   "outputs": [],
   "source": [
    "#pip install catboost\n"
   ]
  },
  {
   "cell_type": "code",
   "execution_count": 1,
   "metadata": {},
   "outputs": [],
   "source": [
    "import numpy as np\n",
    "import pandas as pd\n",
    "from sklearn.model_selection import train_test_split\n",
    "import os\n",
    "from catboost import CatBoostClassifier\n",
    "from  xgboost import XGBClassifier\n",
    "from sklearn.tree import DecisionTreeClassifier \n",
    "from sklearn.neighbors import KNeighborsClassifier\n",
    "from sklearn.ensemble import RandomForestClassifier\n",
    "from sklearn.ensemble import ExtraTreesClassifier\n",
    "from sklearn import metrics\n",
    "from sklearn.metrics import confusion_matrix\n",
    "from sklearn.preprocessing import LabelEncoder\n",
    "from sklearn.preprocessing import MinMaxScaler\n",
    "from imblearn.over_sampling import SMOTE\n",
    "from sklearn.utils import resample"
   ]
  },
  {
   "cell_type": "code",
   "execution_count": 16,
   "metadata": {},
   "outputs": [
    {
     "name": "stdout",
     "output_type": "stream",
     "text": [
      "Collecting delayedNote: you may need to restart the kernel to use updated packages.\n",
      "  Downloading delayed-0.11.0b1-py2.py3-none-any.whl (19 kB)\n",
      "Collecting hiredis\n",
      "  Downloading hiredis-2.0.0-cp38-cp38-win_amd64.whl (18 kB)\n",
      "Collecting redis\n",
      "  Downloading redis-4.0.2-py3-none-any.whl (119 kB)\n",
      "Collecting deprecated\n",
      "  Downloading Deprecated-1.2.13-py2.py3-none-any.whl (9.6 kB)\n",
      "Requirement already satisfied: wrapt<2,>=1.10 in c:\\anaco3.8\\lib\\site-packages (from deprecated->redis->delayed) (1.11.2)\n",
      "\n",
      "Installing collected packages: hiredis, deprecated, redis, delayed\n",
      "Successfully installed delayed-0.11.0b1 deprecated-1.2.13 hiredis-2.0.0 redis-4.0.2\n"
     ]
    }
   ],
   "source": [
    "pip install delayed"
   ]
  },
  {
   "cell_type": "code",
   "execution_count": 17,
   "metadata": {},
   "outputs": [
    {
     "data": {
      "text/html": [
       "<div>\n",
       "<style scoped>\n",
       "    .dataframe tbody tr th:only-of-type {\n",
       "        vertical-align: middle;\n",
       "    }\n",
       "\n",
       "    .dataframe tbody tr th {\n",
       "        vertical-align: top;\n",
       "    }\n",
       "\n",
       "    .dataframe thead th {\n",
       "        text-align: right;\n",
       "    }\n",
       "</style>\n",
       "<table border=\"1\" class=\"dataframe\">\n",
       "  <thead>\n",
       "    <tr style=\"text-align: right;\">\n",
       "      <th></th>\n",
       "      <th>age</th>\n",
       "      <th>sex</th>\n",
       "      <th>on_thyroxine</th>\n",
       "      <th>query_on_thyroxine</th>\n",
       "      <th>on_antithyroid_medication</th>\n",
       "      <th>sick</th>\n",
       "      <th>pregnant</th>\n",
       "      <th>thyroid_surgery</th>\n",
       "      <th>I131_treatment</th>\n",
       "      <th>query_hypothyroid</th>\n",
       "      <th>...</th>\n",
       "      <th>TSH</th>\n",
       "      <th>T3_measured</th>\n",
       "      <th>T3</th>\n",
       "      <th>TT4_measured</th>\n",
       "      <th>TT4</th>\n",
       "      <th>T4U_measured</th>\n",
       "      <th>T4U</th>\n",
       "      <th>FTI_measured</th>\n",
       "      <th>FTI</th>\n",
       "      <th>Class</th>\n",
       "    </tr>\n",
       "  </thead>\n",
       "  <tbody>\n",
       "    <tr>\n",
       "      <th>0</th>\n",
       "      <td>46.0</td>\n",
       "      <td>0.0</td>\n",
       "      <td>0</td>\n",
       "      <td>0</td>\n",
       "      <td>0</td>\n",
       "      <td>0</td>\n",
       "      <td>0</td>\n",
       "      <td>0</td>\n",
       "      <td>0.0</td>\n",
       "      <td>0</td>\n",
       "      <td>...</td>\n",
       "      <td>0.98000</td>\n",
       "      <td>0</td>\n",
       "      <td>2.022785</td>\n",
       "      <td>1</td>\n",
       "      <td>109.0</td>\n",
       "      <td>1</td>\n",
       "      <td>0.910000</td>\n",
       "      <td>1</td>\n",
       "      <td>120.000000</td>\n",
       "      <td>0</td>\n",
       "    </tr>\n",
       "    <tr>\n",
       "      <th>1</th>\n",
       "      <td>70.0</td>\n",
       "      <td>1.0</td>\n",
       "      <td>1</td>\n",
       "      <td>0</td>\n",
       "      <td>0</td>\n",
       "      <td>0</td>\n",
       "      <td>0</td>\n",
       "      <td>0</td>\n",
       "      <td>0.0</td>\n",
       "      <td>0</td>\n",
       "      <td>...</td>\n",
       "      <td>0.16000</td>\n",
       "      <td>1</td>\n",
       "      <td>1.900000</td>\n",
       "      <td>1</td>\n",
       "      <td>175.0</td>\n",
       "      <td>0</td>\n",
       "      <td>0.983264</td>\n",
       "      <td>0</td>\n",
       "      <td>-17.987976</td>\n",
       "      <td>0</td>\n",
       "    </tr>\n",
       "    <tr>\n",
       "      <th>2</th>\n",
       "      <td>70.0</td>\n",
       "      <td>1.0</td>\n",
       "      <td>0</td>\n",
       "      <td>0</td>\n",
       "      <td>0</td>\n",
       "      <td>0</td>\n",
       "      <td>0</td>\n",
       "      <td>0</td>\n",
       "      <td>0.0</td>\n",
       "      <td>0</td>\n",
       "      <td>...</td>\n",
       "      <td>0.72000</td>\n",
       "      <td>1</td>\n",
       "      <td>1.200000</td>\n",
       "      <td>1</td>\n",
       "      <td>61.0</td>\n",
       "      <td>1</td>\n",
       "      <td>0.870000</td>\n",
       "      <td>1</td>\n",
       "      <td>70.000000</td>\n",
       "      <td>0</td>\n",
       "    </tr>\n",
       "    <tr>\n",
       "      <th>3</th>\n",
       "      <td>18.0</td>\n",
       "      <td>1.0</td>\n",
       "      <td>1</td>\n",
       "      <td>0</td>\n",
       "      <td>0</td>\n",
       "      <td>0</td>\n",
       "      <td>0</td>\n",
       "      <td>0</td>\n",
       "      <td>0.0</td>\n",
       "      <td>0</td>\n",
       "      <td>...</td>\n",
       "      <td>0.03000</td>\n",
       "      <td>0</td>\n",
       "      <td>2.022743</td>\n",
       "      <td>1</td>\n",
       "      <td>183.0</td>\n",
       "      <td>1</td>\n",
       "      <td>1.300000</td>\n",
       "      <td>1</td>\n",
       "      <td>141.000000</td>\n",
       "      <td>0</td>\n",
       "    </tr>\n",
       "    <tr>\n",
       "      <th>4</th>\n",
       "      <td>59.0</td>\n",
       "      <td>1.0</td>\n",
       "      <td>0</td>\n",
       "      <td>0</td>\n",
       "      <td>0</td>\n",
       "      <td>0</td>\n",
       "      <td>0</td>\n",
       "      <td>0</td>\n",
       "      <td>0.0</td>\n",
       "      <td>0</td>\n",
       "      <td>...</td>\n",
       "      <td>0.72155</td>\n",
       "      <td>0</td>\n",
       "      <td>2.022729</td>\n",
       "      <td>1</td>\n",
       "      <td>72.0</td>\n",
       "      <td>1</td>\n",
       "      <td>0.920000</td>\n",
       "      <td>1</td>\n",
       "      <td>78.000000</td>\n",
       "      <td>0</td>\n",
       "    </tr>\n",
       "  </tbody>\n",
       "</table>\n",
       "<p>5 rows × 27 columns</p>\n",
       "</div>"
      ],
      "text/plain": [
       "    age  sex  on_thyroxine  query_on_thyroxine  on_antithyroid_medication  \\\n",
       "0  46.0  0.0             0                   0                          0   \n",
       "1  70.0  1.0             1                   0                          0   \n",
       "2  70.0  1.0             0                   0                          0   \n",
       "3  18.0  1.0             1                   0                          0   \n",
       "4  59.0  1.0             0                   0                          0   \n",
       "\n",
       "   sick  pregnant  thyroid_surgery  I131_treatment  query_hypothyroid  ...  \\\n",
       "0     0         0                0             0.0                  0  ...   \n",
       "1     0         0                0             0.0                  0  ...   \n",
       "2     0         0                0             0.0                  0  ...   \n",
       "3     0         0                0             0.0                  0  ...   \n",
       "4     0         0                0             0.0                  0  ...   \n",
       "\n",
       "       TSH  T3_measured        T3  TT4_measured    TT4  T4U_measured  \\\n",
       "0  0.98000            0  2.022785             1  109.0             1   \n",
       "1  0.16000            1  1.900000             1  175.0             0   \n",
       "2  0.72000            1  1.200000             1   61.0             1   \n",
       "3  0.03000            0  2.022743             1  183.0             1   \n",
       "4  0.72155            0  2.022729             1   72.0             1   \n",
       "\n",
       "        T4U  FTI_measured         FTI  Class  \n",
       "0  0.910000             1  120.000000      0  \n",
       "1  0.983264             0  -17.987976      0  \n",
       "2  0.870000             1   70.000000      0  \n",
       "3  1.300000             1  141.000000      0  \n",
       "4  0.920000             1   78.000000      0  \n",
       "\n",
       "[5 rows x 27 columns]"
      ]
     },
     "execution_count": 17,
     "metadata": {},
     "output_type": "execute_result"
    }
   ],
   "source": [
    "dir_path_post = '../cleaned_processed_data'\n",
    "df = pd.read_csv(os.path.join(dir_path_post,'stage02_preprocessed.csv'))\n",
    "df.head(5)"
   ]
  },
  {
   "cell_type": "markdown",
   "metadata": {},
   "source": [
    "- features which are highly correlated with Class label... "
   ]
  },
  {
   "cell_type": "code",
   "execution_count": 18,
   "metadata": {},
   "outputs": [],
   "source": [
    "def get_correlation(df):\n",
    "    corr_values = abs(df.corr(method='spearman')['Class'])\n",
    "    corr_values = corr_values.drop('Class')\n",
    "    corr_values = corr_values[corr_values > 0.03]\n",
    "    display(corr_values)\n",
    "    return corr_values\n"
   ]
  },
  {
   "cell_type": "code",
   "execution_count": 19,
   "metadata": {},
   "outputs": [
    {
     "data": {
      "text/plain": [
       "age                   0.049430\n",
       "sex                   0.036009\n",
       "on_thyroxine          0.079947\n",
       "query_hypothyroid     0.050175\n",
       "query_hyperthyroid    0.032031\n",
       "psych                 0.041757\n",
       "TSH_measured          0.062682\n",
       "TSH                   0.223612\n",
       "T3_measured           0.041204\n",
       "T3                    0.142235\n",
       "TT4_measured          0.053423\n",
       "TT4                   0.093563\n",
       "T4U_measured          0.034699\n",
       "FTI_measured          0.034857\n",
       "FTI                   0.087105\n",
       "Name: Class, dtype: float64"
      ]
     },
     "metadata": {},
     "output_type": "display_data"
    }
   ],
   "source": [
    "corr_values = get_correlation(df)"
   ]
  },
  {
   "cell_type": "code",
   "execution_count": null,
   "metadata": {},
   "outputs": [],
   "source": []
  },
  {
   "cell_type": "markdown",
   "metadata": {},
   "source": [
    "### Train Test Split"
   ]
  },
  {
   "cell_type": "code",
   "execution_count": 20,
   "metadata": {},
   "outputs": [],
   "source": [
    "def traintest_data(df, features, label):\n",
    "    X = df[features]\n",
    "    Y = df[label]\n",
    "    X_train, X_test, y_train, y_test = train_test_split(X,Y, test_size=0.30, random_state=42) \n",
    "    return X_train, X_test, y_train, y_test\n",
    "\n",
    "\n",
    "X_train, X_test, y_train, y_test = traintest_data(df, corr_values.index, 'Class')"
   ]
  },
  {
   "cell_type": "code",
   "execution_count": 21,
   "metadata": {},
   "outputs": [],
   "source": [
    "# Classifiers we are going to use\n",
    "classifiers = {\n",
    "    \"XGBClassifier\" : XGBClassifier(learning_rate=0.01),\n",
    "    \"Nearest Neighbors\" : KNeighborsClassifier(4),\n",
    "    \"Decision Tree\" : DecisionTreeClassifier(class_weight = 'balanced'),\n",
    "    \"Random Forest\": RandomForestClassifier(class_weight = 'balanced',random_state = 1),\n",
    "    \"ExtraTrees\": ExtraTreesClassifier(class_weight = 'balanced',random_state = 1),\n",
    "    \"CatBoostClassifier\" : CatBoostClassifier(max_depth=4,verbose=0),             #loss_function,eval_metric=='multiclass'\n",
    "}"
   ]
  },
  {
   "cell_type": "code",
   "execution_count": 22,
   "metadata": {},
   "outputs": [
    {
     "name": "stdout",
     "output_type": "stream",
     "text": [
      "XGBClassifier(base_score=None, booster=None, colsample_bylevel=None,\n",
      "              colsample_bynode=None, colsample_bytree=None,\n",
      "              enable_categorical=False, gamma=None, gpu_id=None,\n",
      "              importance_type=None, interaction_constraints=None,\n",
      "              learning_rate=0.01, max_delta_step=None, max_depth=None,\n",
      "              min_child_weight=None, missing=nan, monotone_constraints=None,\n",
      "              n_estimators=100, n_jobs=None, num_parallel_tree=None,\n",
      "              predictor=None, random_state=None, reg_alpha=None,\n",
      "              reg_lambda=None, scale_pos_weight=None, subsample=None,\n",
      "              tree_method=None, validate_parameters=None, verbosity=None)\n",
      "KNeighborsClassifier(n_neighbors=4)\n",
      "DecisionTreeClassifier(class_weight='balanced')\n",
      "RandomForestClassifier(class_weight='balanced', random_state=1)\n",
      "ExtraTreesClassifier(class_weight='balanced', random_state=1)\n",
      "<catboost.core.CatBoostClassifier object at 0x0000004E09B3A670>\n"
     ]
    }
   ],
   "source": [
    "for name,clf in classifiers.items():\n",
    "    print(clf)"
   ]
  },
  {
   "cell_type": "code",
   "execution_count": 23,
   "metadata": {},
   "outputs": [
    {
     "name": "stderr",
     "output_type": "stream",
     "text": [
      "C:\\Anaco3.8\\lib\\site-packages\\xgboost\\sklearn.py:1224: UserWarning: The use of label encoder in XGBClassifier is deprecated and will be removed in a future release. To remove this warning, do the following: 1) Pass option use_label_encoder=False when constructing XGBClassifier object; and 2) Encode your labels (y) as integers starting with 0, i.e. 0, 1, 2, ..., [num_class - 1].\n",
      "  warnings.warn(label_encoder_deprecation_msg, UserWarning)\n"
     ]
    },
    {
     "name": "stdout",
     "output_type": "stream",
     "text": [
      "[10:44:17] WARNING: C:/Users/Administrator/workspace/xgboost-win64_release_1.5.0/src/learner.cc:1115: Starting in XGBoost 1.3.0, the default evaluation metric used with the objective 'multi:softprob' was changed from 'merror' to 'mlogloss'. Explicitly set eval_metric if you'd like to restore the old behavior.\n",
      "Confusion matrix for:  XGBClassifier\n"
     ]
    },
    {
     "data": {
      "text/plain": [
       "array([[7254,  115,   33,    1],\n",
       "       [  13,  403,    2,    0],\n",
       "       [  41,    1,   98,    0],\n",
       "       [   8,    0,    0,   84]], dtype=int64)"
      ]
     },
     "metadata": {},
     "output_type": "display_data"
    },
    {
     "name": "stdout",
     "output_type": "stream",
     "text": [
      "Confusion matrix for:  Nearest Neighbors\n"
     ]
    },
    {
     "data": {
      "text/plain": [
       "array([[7320,   67,   14,    2],\n",
       "       [ 344,   69,    5,    0],\n",
       "       [  86,   10,   44,    0],\n",
       "       [  92,    0,    0,    0]], dtype=int64)"
      ]
     },
     "metadata": {},
     "output_type": "display_data"
    },
    {
     "name": "stdout",
     "output_type": "stream",
     "text": [
      "Confusion matrix for:  Decision Tree\n"
     ]
    },
    {
     "data": {
      "text/plain": [
       "array([[7252,   98,   52,    1],\n",
       "       [  81,  337,    0,    0],\n",
       "       [  34,    4,  102,    0],\n",
       "       [   0,    0,    0,   92]], dtype=int64)"
      ]
     },
     "metadata": {},
     "output_type": "display_data"
    },
    {
     "name": "stdout",
     "output_type": "stream",
     "text": [
      "Confusion matrix for:  Random Forest\n"
     ]
    },
    {
     "data": {
      "text/plain": [
       "array([[7268,   91,   44,    0],\n",
       "       [  74,  343,    1,    0],\n",
       "       [  46,    0,   94,    0],\n",
       "       [   8,    0,    0,   84]], dtype=int64)"
      ]
     },
     "metadata": {},
     "output_type": "display_data"
    },
    {
     "name": "stdout",
     "output_type": "stream",
     "text": [
      "Confusion matrix for:  ExtraTrees\n"
     ]
    },
    {
     "data": {
      "text/plain": [
       "array([[7237,   98,   45,   23],\n",
       "       [ 178,  239,    1,    0],\n",
       "       [  55,    0,   85,    0],\n",
       "       [  57,    0,    0,   35]], dtype=int64)"
      ]
     },
     "metadata": {},
     "output_type": "display_data"
    },
    {
     "name": "stdout",
     "output_type": "stream",
     "text": [
      "Confusion matrix for:  CatBoostClassifier\n"
     ]
    },
    {
     "data": {
      "text/plain": [
       "array([[7284,   87,   32,    0],\n",
       "       [  40,  377,    1,    0],\n",
       "       [  51,    0,   89,    0],\n",
       "       [   9,    0,    0,   83]], dtype=int64)"
      ]
     },
     "metadata": {},
     "output_type": "display_data"
    },
    {
     "data": {
      "text/html": [
       "<div>\n",
       "<style scoped>\n",
       "    .dataframe tbody tr th:only-of-type {\n",
       "        vertical-align: middle;\n",
       "    }\n",
       "\n",
       "    .dataframe tbody tr th {\n",
       "        vertical-align: top;\n",
       "    }\n",
       "\n",
       "    .dataframe thead th {\n",
       "        text-align: right;\n",
       "    }\n",
       "</style>\n",
       "<table border=\"1\" class=\"dataframe\">\n",
       "  <thead>\n",
       "    <tr style=\"text-align: right;\">\n",
       "      <th></th>\n",
       "      <th>Classifier</th>\n",
       "      <th>Accuracy</th>\n",
       "      <th>Precision</th>\n",
       "      <th>Recall</th>\n",
       "    </tr>\n",
       "    <tr>\n",
       "      <th>FScore</th>\n",
       "      <th></th>\n",
       "      <th></th>\n",
       "      <th></th>\n",
       "      <th></th>\n",
       "    </tr>\n",
       "  </thead>\n",
       "  <tbody>\n",
       "    <tr>\n",
       "      <th>0.8782</th>\n",
       "      <td>XGBClassifier</td>\n",
       "      <td>0.9734</td>\n",
       "      <td>0.8733</td>\n",
       "      <td>0.8893</td>\n",
       "    </tr>\n",
       "    <tr>\n",
       "      <th>0.8670</th>\n",
       "      <td>CatBoostClassifier</td>\n",
       "      <td>0.9727</td>\n",
       "      <td>0.8821</td>\n",
       "      <td>0.8559</td>\n",
       "    </tr>\n",
       "    <tr>\n",
       "      <th>0.8642</th>\n",
       "      <td>Decision Tree</td>\n",
       "      <td>0.9665</td>\n",
       "      <td>0.8509</td>\n",
       "      <td>0.8786</td>\n",
       "    </tr>\n",
       "    <tr>\n",
       "      <th>0.8539</th>\n",
       "      <td>Random Forest</td>\n",
       "      <td>0.9672</td>\n",
       "      <td>0.8623</td>\n",
       "      <td>0.8467</td>\n",
       "    </tr>\n",
       "    <tr>\n",
       "      <th>0.6741</th>\n",
       "      <td>ExtraTrees</td>\n",
       "      <td>0.9433</td>\n",
       "      <td>0.7307</td>\n",
       "      <td>0.6342</td>\n",
       "    </tr>\n",
       "    <tr>\n",
       "      <th>0.4096</th>\n",
       "      <td>Nearest Neighbors</td>\n",
       "      <td>0.9230</td>\n",
       "      <td>0.5261</td>\n",
       "      <td>0.3670</td>\n",
       "    </tr>\n",
       "  </tbody>\n",
       "</table>\n",
       "</div>"
      ],
      "text/plain": [
       "                Classifier  Accuracy  Precision  Recall\n",
       "FScore                                                 \n",
       "0.8782       XGBClassifier    0.9734     0.8733  0.8893\n",
       "0.8670  CatBoostClassifier    0.9727     0.8821  0.8559\n",
       "0.8642       Decision Tree    0.9665     0.8509  0.8786\n",
       "0.8539       Random Forest    0.9672     0.8623  0.8467\n",
       "0.6741          ExtraTrees    0.9433     0.7307  0.6342\n",
       "0.4096   Nearest Neighbors    0.9230     0.5261  0.3670"
      ]
     },
     "metadata": {},
     "output_type": "display_data"
    }
   ],
   "source": [
    "def train_getscore(classifiers,X_train, X_test, y_train, y_test ):\n",
    "    score_board = pd.DataFrame(columns = [\"Classifier\", \n",
    "                                \"Accuracy\", \n",
    "                                \"Precision\", \n",
    "                                \"Recall\", \n",
    "                                \"FScore\"])\n",
    "    for name, clf in classifiers.items():\n",
    "        clf.fit(X_train,y_train)\n",
    "        y_pred = clf.predict(X_test)\n",
    "        \n",
    "        precision_score,recall_score,f_score,support = metrics.precision_recall_fscore_support(y_test,y_pred,average='macro')\n",
    "        score_board=score_board.append({ \"Classifier\": name,\n",
    "                           \"Accuracy\": round(metrics.accuracy_score(y_test, y_pred), 4),\n",
    "                           \"Precision\": round(precision_score, 4), \n",
    "                           \"Recall\":round(recall_score, 4), \n",
    "                           \"FScore\":round(f_score, 4)\n",
    "                           }, ignore_index=True)\n",
    "        print(\"Confusion matrix for: \", name)\n",
    "        display(confusion_matrix(y_test, y_pred))\n",
    "    score_board.set_index(\"FScore\", inplace=True)\n",
    "    score_board.sort_values(by=\"FScore\", ascending=False, inplace=True)   \n",
    "    return score_board\n",
    "        \n",
    "display(train_getscore(classifiers, X_train, X_test, y_train, y_test))        "
   ]
  },
  {
   "cell_type": "code",
   "execution_count": 24,
   "metadata": {},
   "outputs": [
    {
     "data": {
      "text/plain": [
       "(26841, 27)"
      ]
     },
     "metadata": {},
     "output_type": "display_data"
    },
    {
     "data": {
      "text/plain": [
       "0    24698\n",
       "1     1401\n",
       "2      450\n",
       "3      292\n",
       "Name: Class, dtype: int64"
      ]
     },
     "execution_count": 24,
     "metadata": {},
     "output_type": "execute_result"
    }
   ],
   "source": [
    "# it seems like data is highly imbalanced . if its true then we cannot only rely on \n",
    "display(df.shape)\n",
    "df['Class'].value_counts()"
   ]
  },
  {
   "cell_type": "raw",
   "metadata": {},
   "source": [
    "# https://www.javatpoint.com/discretization-in-data-mining"
   ]
  },
  {
   "cell_type": "code",
   "execution_count": 25,
   "metadata": {},
   "outputs": [],
   "source": [
    "def fdiscretizer(attribute,dataframe):                                            \n",
    "    enc = LabelEncoder()\n",
    "    dataframe[attribute] = pd.qcut(dataframe[attribute], 20, duplicates='drop')   #it forms bins or groups \n",
    "    dataframe[attribute] = enc.fit_transform(dataframe[attribute])                 #it will encode and normalise\n",
    "    dataframe = dataframe.convert_dtypes(convert_integer=True)                     #it will convert dtype of all df to int\n",
    "\n",
    "data2 = df.copy()\n",
    "fdiscretizer('age',data2)\n",
    "fdiscretizer('TSH',data2)\n",
    "fdiscretizer('T3',data2)\n",
    "fdiscretizer('TT4',data2)\n",
    "fdiscretizer('T4U',data2)\n",
    "fdiscretizer('FTI',data2)"
   ]
  },
  {
   "cell_type": "code",
   "execution_count": null,
   "metadata": {},
   "outputs": [],
   "source": []
  },
  {
   "cell_type": "code",
   "execution_count": null,
   "metadata": {},
   "outputs": [],
   "source": []
  },
  {
   "cell_type": "code",
   "execution_count": 26,
   "metadata": {},
   "outputs": [
    {
     "data": {
      "text/plain": [
       "age                   0.050317\n",
       "sex                   0.036009\n",
       "on_thyroxine          0.079947\n",
       "query_hypothyroid     0.050175\n",
       "query_hyperthyroid    0.032031\n",
       "psych                 0.041757\n",
       "TSH_measured          0.062682\n",
       "TSH                   0.222632\n",
       "T3_measured           0.041204\n",
       "T3                    0.142219\n",
       "TT4_measured          0.053423\n",
       "TT4                   0.093105\n",
       "T4U_measured          0.034699\n",
       "FTI_measured          0.034857\n",
       "FTI                   0.085890\n",
       "Name: Class, dtype: float64"
      ]
     },
     "metadata": {},
     "output_type": "display_data"
    },
    {
     "name": "stderr",
     "output_type": "stream",
     "text": [
      "C:\\Anaco3.8\\lib\\site-packages\\xgboost\\sklearn.py:1224: UserWarning: The use of label encoder in XGBClassifier is deprecated and will be removed in a future release. To remove this warning, do the following: 1) Pass option use_label_encoder=False when constructing XGBClassifier object; and 2) Encode your labels (y) as integers starting with 0, i.e. 0, 1, 2, ..., [num_class - 1].\n",
      "  warnings.warn(label_encoder_deprecation_msg, UserWarning)\n"
     ]
    },
    {
     "name": "stdout",
     "output_type": "stream",
     "text": [
      "[10:54:17] WARNING: C:/Users/Administrator/workspace/xgboost-win64_release_1.5.0/src/learner.cc:1115: Starting in XGBoost 1.3.0, the default evaluation metric used with the objective 'multi:softprob' was changed from 'merror' to 'mlogloss'. Explicitly set eval_metric if you'd like to restore the old behavior.\n",
      "Confusion matrix for:  XGBClassifier\n"
     ]
    },
    {
     "data": {
      "text/plain": [
       "array([[7253,  117,   32,    1],\n",
       "       [  46,  364,    8,    0],\n",
       "       [  46,   23,   71,    0],\n",
       "       [   8,    0,    0,   84]], dtype=int64)"
      ]
     },
     "metadata": {},
     "output_type": "display_data"
    },
    {
     "name": "stdout",
     "output_type": "stream",
     "text": [
      "Confusion matrix for:  Nearest Neighbors\n"
     ]
    },
    {
     "data": {
      "text/plain": [
       "array([[7294,   81,   21,    7],\n",
       "       [ 273,  136,    9,    0],\n",
       "       [  68,   21,   51,    0],\n",
       "       [  88,    0,    2,    2]], dtype=int64)"
      ]
     },
     "metadata": {},
     "output_type": "display_data"
    },
    {
     "name": "stdout",
     "output_type": "stream",
     "text": [
      "Confusion matrix for:  Decision Tree\n"
     ]
    },
    {
     "data": {
      "text/plain": [
       "array([[7214,  124,   64,    1],\n",
       "       [  92,  315,   11,    0],\n",
       "       [  46,   16,   78,    0],\n",
       "       [   0,    0,    0,   92]], dtype=int64)"
      ]
     },
     "metadata": {},
     "output_type": "display_data"
    },
    {
     "name": "stdout",
     "output_type": "stream",
     "text": [
      "Confusion matrix for:  Random Forest\n"
     ]
    },
    {
     "data": {
      "text/plain": [
       "array([[7262,   96,   45,    0],\n",
       "       [  94,  314,   10,    0],\n",
       "       [  48,   10,   82,    0],\n",
       "       [  10,    0,    0,   82]], dtype=int64)"
      ]
     },
     "metadata": {},
     "output_type": "display_data"
    },
    {
     "name": "stdout",
     "output_type": "stream",
     "text": [
      "Confusion matrix for:  ExtraTrees\n"
     ]
    },
    {
     "data": {
      "text/plain": [
       "array([[7214,  107,   50,   32],\n",
       "       [ 141,  264,   13,    0],\n",
       "       [  50,   11,   79,    0],\n",
       "       [  68,    0,    0,   24]], dtype=int64)"
      ]
     },
     "metadata": {},
     "output_type": "display_data"
    },
    {
     "name": "stdout",
     "output_type": "stream",
     "text": [
      "Confusion matrix for:  CatBoostClassifier\n"
     ]
    },
    {
     "data": {
      "text/plain": [
       "array([[7274,   88,   41,    0],\n",
       "       [  61,  349,    8,    0],\n",
       "       [  38,   11,   91,    0],\n",
       "       [   5,    0,    0,   87]], dtype=int64)"
      ]
     },
     "metadata": {},
     "output_type": "display_data"
    },
    {
     "data": {
      "text/html": [
       "<div>\n",
       "<style scoped>\n",
       "    .dataframe tbody tr th:only-of-type {\n",
       "        vertical-align: middle;\n",
       "    }\n",
       "\n",
       "    .dataframe tbody tr th {\n",
       "        vertical-align: top;\n",
       "    }\n",
       "\n",
       "    .dataframe thead th {\n",
       "        text-align: right;\n",
       "    }\n",
       "</style>\n",
       "<table border=\"1\" class=\"dataframe\">\n",
       "  <thead>\n",
       "    <tr style=\"text-align: right;\">\n",
       "      <th></th>\n",
       "      <th>Classifier</th>\n",
       "      <th>Accuracy</th>\n",
       "      <th>Precision</th>\n",
       "      <th>Recall</th>\n",
       "    </tr>\n",
       "    <tr>\n",
       "      <th>FScore</th>\n",
       "      <th></th>\n",
       "      <th></th>\n",
       "      <th></th>\n",
       "      <th></th>\n",
       "    </tr>\n",
       "  </thead>\n",
       "  <tbody>\n",
       "    <tr>\n",
       "      <th>0.8531</th>\n",
       "      <td>CatBoostClassifier</td>\n",
       "      <td>0.9687</td>\n",
       "      <td>0.8537</td>\n",
       "      <td>0.8533</td>\n",
       "    </tr>\n",
       "    <tr>\n",
       "      <th>0.8219</th>\n",
       "      <td>XGBClassifier</td>\n",
       "      <td>0.9651</td>\n",
       "      <td>0.8341</td>\n",
       "      <td>0.8177</td>\n",
       "    </tr>\n",
       "    <tr>\n",
       "      <th>0.8161</th>\n",
       "      <td>Random Forest</td>\n",
       "      <td>0.9611</td>\n",
       "      <td>0.8314</td>\n",
       "      <td>0.8023</td>\n",
       "    </tr>\n",
       "    <tr>\n",
       "      <th>0.8066</th>\n",
       "      <td>Decision Tree</td>\n",
       "      <td>0.9560</td>\n",
       "      <td>0.7931</td>\n",
       "      <td>0.8213</td>\n",
       "    </tr>\n",
       "    <tr>\n",
       "      <th>0.6286</th>\n",
       "      <td>ExtraTrees</td>\n",
       "      <td>0.9414</td>\n",
       "      <td>0.6603</td>\n",
       "      <td>0.6078</td>\n",
       "    </tr>\n",
       "    <tr>\n",
       "      <th>0.4690</th>\n",
       "      <td>Nearest Neighbors</td>\n",
       "      <td>0.9292</td>\n",
       "      <td>0.5881</td>\n",
       "      <td>0.4242</td>\n",
       "    </tr>\n",
       "  </tbody>\n",
       "</table>\n",
       "</div>"
      ],
      "text/plain": [
       "                Classifier  Accuracy  Precision  Recall\n",
       "FScore                                                 \n",
       "0.8531  CatBoostClassifier    0.9687     0.8537  0.8533\n",
       "0.8219       XGBClassifier    0.9651     0.8341  0.8177\n",
       "0.8161       Random Forest    0.9611     0.8314  0.8023\n",
       "0.8066       Decision Tree    0.9560     0.7931  0.8213\n",
       "0.6286          ExtraTrees    0.9414     0.6603  0.6078\n",
       "0.4690   Nearest Neighbors    0.9292     0.5881  0.4242"
      ]
     },
     "metadata": {},
     "output_type": "display_data"
    }
   ],
   "source": [
    "corr_values = get_correlation(data2)\n",
    "X_train2, X_test2, y_train2, y_test2 = traintest_data(data2, corr_values.index,'Class')\n",
    "\n",
    "display(train_getscore(classifiers,X_train2, X_test2, y_train2, y_test2))"
   ]
  },
  {
   "cell_type": "markdown",
   "metadata": {},
   "source": [
    "### F1 score has dropped \n",
    "###  Might be discretization is not a valid option\n",
    "###  will check Standardisation\n",
    "### T3 feature is now  seems to be highly correlted with Class"
   ]
  },
  {
   "cell_type": "code",
   "execution_count": 27,
   "metadata": {},
   "outputs": [
    {
     "data": {
      "text/plain": [
       "age                   0.049419\n",
       "sex                   0.036009\n",
       "on_thyroxine          0.079947\n",
       "query_hypothyroid     0.050175\n",
       "query_hyperthyroid    0.032031\n",
       "psych                 0.041757\n",
       "TSH_measured          0.062682\n",
       "TSH                   0.223577\n",
       "T3_measured           0.041204\n",
       "T3                    0.142235\n",
       "TT4_measured          0.053423\n",
       "TT4                   0.093559\n",
       "T4U_measured          0.034699\n",
       "FTI_measured          0.034857\n",
       "FTI                   0.087102\n",
       "Name: Class, dtype: float64"
      ]
     },
     "metadata": {},
     "output_type": "display_data"
    },
    {
     "name": "stderr",
     "output_type": "stream",
     "text": [
      "C:\\Anaco3.8\\lib\\site-packages\\xgboost\\sklearn.py:1224: UserWarning: The use of label encoder in XGBClassifier is deprecated and will be removed in a future release. To remove this warning, do the following: 1) Pass option use_label_encoder=False when constructing XGBClassifier object; and 2) Encode your labels (y) as integers starting with 0, i.e. 0, 1, 2, ..., [num_class - 1].\n",
      "  warnings.warn(label_encoder_deprecation_msg, UserWarning)\n"
     ]
    },
    {
     "name": "stdout",
     "output_type": "stream",
     "text": [
      "[10:54:50] WARNING: C:/Users/Administrator/workspace/xgboost-win64_release_1.5.0/src/learner.cc:1115: Starting in XGBoost 1.3.0, the default evaluation metric used with the objective 'multi:softprob' was changed from 'merror' to 'mlogloss'. Explicitly set eval_metric if you'd like to restore the old behavior.\n",
      "Confusion matrix for:  XGBClassifier\n"
     ]
    },
    {
     "data": {
      "text/plain": [
       "array([[7254,  115,   33,    1],\n",
       "       [  14,  402,    2,    0],\n",
       "       [  41,    1,   98,    0],\n",
       "       [   8,    0,    0,   84]], dtype=int64)"
      ]
     },
     "metadata": {},
     "output_type": "display_data"
    },
    {
     "name": "stdout",
     "output_type": "stream",
     "text": [
      "Confusion matrix for:  Nearest Neighbors\n"
     ]
    },
    {
     "data": {
      "text/plain": [
       "array([[7332,   42,   19,   10],\n",
       "       [ 336,   79,    3,    0],\n",
       "       [  98,    0,   42,    0],\n",
       "       [  91,    0,    0,    1]], dtype=int64)"
      ]
     },
     "metadata": {},
     "output_type": "display_data"
    },
    {
     "name": "stdout",
     "output_type": "stream",
     "text": [
      "Confusion matrix for:  Decision Tree\n"
     ]
    },
    {
     "data": {
      "text/plain": [
       "array([[7255,   95,   52,    1],\n",
       "       [  79,  339,    0,    0],\n",
       "       [  38,    6,   96,    0],\n",
       "       [   0,    0,    0,   92]], dtype=int64)"
      ]
     },
     "metadata": {},
     "output_type": "display_data"
    },
    {
     "name": "stdout",
     "output_type": "stream",
     "text": [
      "Confusion matrix for:  Random Forest\n"
     ]
    },
    {
     "data": {
      "text/plain": [
       "array([[7269,   92,   42,    0],\n",
       "       [  69,  348,    1,    0],\n",
       "       [  48,    0,   92,    0],\n",
       "       [   9,    0,    0,   83]], dtype=int64)"
      ]
     },
     "metadata": {},
     "output_type": "display_data"
    },
    {
     "name": "stdout",
     "output_type": "stream",
     "text": [
      "Confusion matrix for:  ExtraTrees\n"
     ]
    },
    {
     "data": {
      "text/plain": [
       "array([[7242,   96,   45,   20],\n",
       "       [ 175,  242,    1,    0],\n",
       "       [  55,    1,   84,    0],\n",
       "       [  56,    0,    0,   36]], dtype=int64)"
      ]
     },
     "metadata": {},
     "output_type": "display_data"
    },
    {
     "name": "stdout",
     "output_type": "stream",
     "text": [
      "Confusion matrix for:  CatBoostClassifier\n"
     ]
    },
    {
     "data": {
      "text/plain": [
       "array([[7283,   88,   32,    0],\n",
       "       [  37,  380,    1,    0],\n",
       "       [  52,    0,   88,    0],\n",
       "       [   8,    0,    0,   84]], dtype=int64)"
      ]
     },
     "metadata": {},
     "output_type": "display_data"
    },
    {
     "data": {
      "text/html": [
       "<div>\n",
       "<style scoped>\n",
       "    .dataframe tbody tr th:only-of-type {\n",
       "        vertical-align: middle;\n",
       "    }\n",
       "\n",
       "    .dataframe tbody tr th {\n",
       "        vertical-align: top;\n",
       "    }\n",
       "\n",
       "    .dataframe thead th {\n",
       "        text-align: right;\n",
       "    }\n",
       "</style>\n",
       "<table border=\"1\" class=\"dataframe\">\n",
       "  <thead>\n",
       "    <tr style=\"text-align: right;\">\n",
       "      <th></th>\n",
       "      <th>Classifier</th>\n",
       "      <th>Accuracy</th>\n",
       "      <th>Precision</th>\n",
       "      <th>Recall</th>\n",
       "    </tr>\n",
       "    <tr>\n",
       "      <th>FScore</th>\n",
       "      <th></th>\n",
       "      <th></th>\n",
       "      <th></th>\n",
       "      <th></th>\n",
       "    </tr>\n",
       "  </thead>\n",
       "  <tbody>\n",
       "    <tr>\n",
       "      <th>0.8779</th>\n",
       "      <td>XGBClassifier</td>\n",
       "      <td>0.9733</td>\n",
       "      <td>0.8731</td>\n",
       "      <td>0.8887</td>\n",
       "    </tr>\n",
       "    <tr>\n",
       "      <th>0.8680</th>\n",
       "      <td>CatBoostClassifier</td>\n",
       "      <td>0.9729</td>\n",
       "      <td>0.8815</td>\n",
       "      <td>0.8586</td>\n",
       "    </tr>\n",
       "    <tr>\n",
       "      <th>0.8584</th>\n",
       "      <td>Decision Tree</td>\n",
       "      <td>0.9663</td>\n",
       "      <td>0.8481</td>\n",
       "      <td>0.8692</td>\n",
       "    </tr>\n",
       "    <tr>\n",
       "      <th>0.8528</th>\n",
       "      <td>Random Forest</td>\n",
       "      <td>0.9676</td>\n",
       "      <td>0.8638</td>\n",
       "      <td>0.8434</td>\n",
       "    </tr>\n",
       "    <tr>\n",
       "      <th>0.6795</th>\n",
       "      <td>ExtraTrees</td>\n",
       "      <td>0.9442</td>\n",
       "      <td>0.7412</td>\n",
       "      <td>0.6371</td>\n",
       "    </tr>\n",
       "    <tr>\n",
       "      <th>0.4213</th>\n",
       "      <td>Nearest Neighbors</td>\n",
       "      <td>0.9256</td>\n",
       "      <td>0.5833</td>\n",
       "      <td>0.3726</td>\n",
       "    </tr>\n",
       "  </tbody>\n",
       "</table>\n",
       "</div>"
      ],
      "text/plain": [
       "                Classifier  Accuracy  Precision  Recall\n",
       "FScore                                                 \n",
       "0.8779       XGBClassifier    0.9733     0.8731  0.8887\n",
       "0.8680  CatBoostClassifier    0.9729     0.8815  0.8586\n",
       "0.8584       Decision Tree    0.9663     0.8481  0.8692\n",
       "0.8528       Random Forest    0.9676     0.8638  0.8434\n",
       "0.6795          ExtraTrees    0.9442     0.7412  0.6371\n",
       "0.4213   Nearest Neighbors    0.9256     0.5833  0.3726"
      ]
     },
     "metadata": {},
     "output_type": "display_data"
    }
   ],
   "source": [
    "scaler = MinMaxScaler()\n",
    "data3=pd.DataFrame(scaler.fit_transform(df.drop(columns =['Class'])),columns=data2.columns[:-1])\n",
    "data3['Class'] = df['Class']\n",
    "# data3 = ((df-df.min())/(df.max()-df.min()))*20\n",
    "\n",
    "corr_values = get_correlation(data3)\n",
    "X_train3, X_test3, y_train3, y_test3 = traintest_data(data3, corr_values.index,'Class')\n",
    "\n",
    "display(train_getscore(classifiers,X_train3, X_test3, y_train3, y_test3))"
   ]
  },
  {
   "cell_type": "markdown",
   "metadata": {},
   "source": [
    "### f1 score has risen from last \n",
    "### still the data is imbalanced need to balance the data"
   ]
  },
  {
   "cell_type": "code",
   "execution_count": 28,
   "metadata": {},
   "outputs": [
    {
     "name": "stderr",
     "output_type": "stream",
     "text": [
      "C:\\Anaco3.8\\lib\\site-packages\\imblearn\\utils\\_validation.py:587: FutureWarning: Pass sampling_strategy=not majority as keyword args. From version 0.9 passing these as positional arguments will result in an error\n",
      "  warnings.warn(\n"
     ]
    },
    {
     "data": {
      "text/plain": [
       "(18788, 15)"
      ]
     },
     "metadata": {},
     "output_type": "display_data"
    },
    {
     "data": {
      "text/plain": [
       "(69180, 15)"
      ]
     },
     "metadata": {},
     "output_type": "display_data"
    },
    {
     "name": "stderr",
     "output_type": "stream",
     "text": [
      "C:\\Anaco3.8\\lib\\site-packages\\xgboost\\sklearn.py:1224: UserWarning: The use of label encoder in XGBClassifier is deprecated and will be removed in a future release. To remove this warning, do the following: 1) Pass option use_label_encoder=False when constructing XGBClassifier object; and 2) Encode your labels (y) as integers starting with 0, i.e. 0, 1, 2, ..., [num_class - 1].\n",
      "  warnings.warn(label_encoder_deprecation_msg, UserWarning)\n"
     ]
    },
    {
     "name": "stdout",
     "output_type": "stream",
     "text": [
      "[11:11:20] WARNING: C:/Users/Administrator/workspace/xgboost-win64_release_1.5.0/src/learner.cc:1115: Starting in XGBoost 1.3.0, the default evaluation metric used with the objective 'multi:softprob' was changed from 'merror' to 'mlogloss'. Explicitly set eval_metric if you'd like to restore the old behavior.\n",
      "Confusion matrix for:  XGBClassifier\n"
     ]
    },
    {
     "data": {
      "text/plain": [
       "array([[6990,  146,  266,    1],\n",
       "       [  90, 7273,   40,    0],\n",
       "       [ 181,   76, 7146,    0],\n",
       "       [   0,    0,    0, 7403]], dtype=int64)"
      ]
     },
     "metadata": {},
     "output_type": "display_data"
    },
    {
     "name": "stdout",
     "output_type": "stream",
     "text": [
      "Confusion matrix for:  Nearest Neighbors\n"
     ]
    },
    {
     "data": {
      "text/plain": [
       "array([[6732,  408,  149,  114],\n",
       "       [1864, 5287,  197,   55],\n",
       "       [1211,  154, 5984,   54],\n",
       "       [1509,   63,   75, 5756]], dtype=int64)"
      ]
     },
     "metadata": {},
     "output_type": "display_data"
    },
    {
     "name": "stdout",
     "output_type": "stream",
     "text": [
      "Confusion matrix for:  Decision Tree\n"
     ]
    },
    {
     "data": {
      "text/plain": [
       "array([[7233,   93,   76,    1],\n",
       "       [ 642, 6718,   43,    0],\n",
       "       [1122,   56, 6225,    0],\n",
       "       [   0,    0,    0, 7403]], dtype=int64)"
      ]
     },
     "metadata": {},
     "output_type": "display_data"
    },
    {
     "name": "stdout",
     "output_type": "stream",
     "text": [
      "Confusion matrix for:  Random Forest\n"
     ]
    },
    {
     "data": {
      "text/plain": [
       "array([[7240,   99,   64,    0],\n",
       "       [ 295, 7079,   29,    0],\n",
       "       [ 627,   57, 6719,    0],\n",
       "       [  73,    0,    0, 7330]], dtype=int64)"
      ]
     },
     "metadata": {},
     "output_type": "display_data"
    },
    {
     "name": "stdout",
     "output_type": "stream",
     "text": [
      "Confusion matrix for:  ExtraTrees\n"
     ]
    },
    {
     "data": {
      "text/plain": [
       "array([[7187,  123,   64,   29],\n",
       "       [1000, 6356,   47,    0],\n",
       "       [1090,   62, 6251,    0],\n",
       "       [1017,    2,    0, 6384]], dtype=int64)"
      ]
     },
     "metadata": {},
     "output_type": "display_data"
    },
    {
     "name": "stdout",
     "output_type": "stream",
     "text": [
      "Confusion matrix for:  CatBoostClassifier\n"
     ]
    },
    {
     "data": {
      "text/plain": [
       "array([[7178,  118,  105,    2],\n",
       "       [  80, 7273,   50,    0],\n",
       "       [ 249,   70, 7084,    0],\n",
       "       [   0,    0,    0, 7403]], dtype=int64)"
      ]
     },
     "metadata": {},
     "output_type": "display_data"
    },
    {
     "data": {
      "text/html": [
       "<div>\n",
       "<style scoped>\n",
       "    .dataframe tbody tr th:only-of-type {\n",
       "        vertical-align: middle;\n",
       "    }\n",
       "\n",
       "    .dataframe tbody tr th {\n",
       "        vertical-align: top;\n",
       "    }\n",
       "\n",
       "    .dataframe thead th {\n",
       "        text-align: right;\n",
       "    }\n",
       "</style>\n",
       "<table border=\"1\" class=\"dataframe\">\n",
       "  <thead>\n",
       "    <tr style=\"text-align: right;\">\n",
       "      <th></th>\n",
       "      <th>Classifier</th>\n",
       "      <th>Accuracy</th>\n",
       "      <th>Precision</th>\n",
       "      <th>Recall</th>\n",
       "    </tr>\n",
       "    <tr>\n",
       "      <th>FScore</th>\n",
       "      <th></th>\n",
       "      <th></th>\n",
       "      <th></th>\n",
       "      <th></th>\n",
       "    </tr>\n",
       "  </thead>\n",
       "  <tbody>\n",
       "    <tr>\n",
       "      <th>0.9772</th>\n",
       "      <td>CatBoostClassifier</td>\n",
       "      <td>0.9772</td>\n",
       "      <td>0.9773</td>\n",
       "      <td>0.9772</td>\n",
       "    </tr>\n",
       "    <tr>\n",
       "      <th>0.9729</th>\n",
       "      <td>XGBClassifier</td>\n",
       "      <td>0.9730</td>\n",
       "      <td>0.9730</td>\n",
       "      <td>0.9730</td>\n",
       "    </tr>\n",
       "    <tr>\n",
       "      <th>0.9584</th>\n",
       "      <td>Random Forest</td>\n",
       "      <td>0.9580</td>\n",
       "      <td>0.9610</td>\n",
       "      <td>0.9580</td>\n",
       "    </tr>\n",
       "    <tr>\n",
       "      <th>0.9323</th>\n",
       "      <td>Decision Tree</td>\n",
       "      <td>0.9313</td>\n",
       "      <td>0.9408</td>\n",
       "      <td>0.9313</td>\n",
       "    </tr>\n",
       "    <tr>\n",
       "      <th>0.8890</th>\n",
       "      <td>ExtraTrees</td>\n",
       "      <td>0.8840</td>\n",
       "      <td>0.9119</td>\n",
       "      <td>0.8840</td>\n",
       "    </tr>\n",
       "    <tr>\n",
       "      <th>0.8101</th>\n",
       "      <td>Nearest Neighbors</td>\n",
       "      <td>0.8023</td>\n",
       "      <td>0.8465</td>\n",
       "      <td>0.8023</td>\n",
       "    </tr>\n",
       "  </tbody>\n",
       "</table>\n",
       "</div>"
      ],
      "text/plain": [
       "                Classifier  Accuracy  Precision  Recall\n",
       "FScore                                                 \n",
       "0.9772  CatBoostClassifier    0.9772     0.9773  0.9772\n",
       "0.9729       XGBClassifier    0.9730     0.9730  0.9730\n",
       "0.9584       Random Forest    0.9580     0.9610  0.9580\n",
       "0.9323       Decision Tree    0.9313     0.9408  0.9313\n",
       "0.8890          ExtraTrees    0.8840     0.9119  0.8840\n",
       "0.8101   Nearest Neighbors    0.8023     0.8465  0.8023"
      ]
     },
     "metadata": {},
     "output_type": "display_data"
    }
   ],
   "source": [
    "smote = SMOTE('not majority',random_state = 1)                 #Over sampling method ,randomly increases the sampling of\n",
    "X_train_sm, y_train_sm = smote.fit_resample(X_train3,y_train3)   #minority class examples to balance with majority class.\n",
    "X_test_sm, y_test_sm = smote.fit_resample(X_test3,y_test3)\n",
    "display(X_train3.shape)\n",
    "display(X_train_sm.shape)\n",
    "display(train_getscore(classifiers,X_train_sm, X_test_sm, y_train_sm, y_test_sm))"
   ]
  },
  {
   "cell_type": "code",
   "execution_count": 29,
   "metadata": {},
   "outputs": [
    {
     "data": {
      "text/plain": [
       "2    450\n",
       "1    450\n",
       "0    450\n",
       "3    292\n",
       "Name: Class, dtype: int64"
      ]
     },
     "execution_count": 29,
     "metadata": {},
     "output_type": "execute_result"
    }
   ],
   "source": [
    "\n",
    "## Under sampling method                                   #? try to balance class dist by randomly eleminating majority \n",
    "df_negative = data3[data3.Class==0]                         #class examples\n",
    "df_hypothyroid = data3[data3.Class==1]\n",
    "df_hyperthyroid = data3[data3.Class==2]\n",
    "df_sickeuthyroid = data3[data3.Class==3]\n",
    "\n",
    "df_negative_downsampled = resample(df_negative,replace=False,n_samples=450,random_state=1)\n",
    "df_hypothyroid_downsampled = resample(df_hypothyroid,replace=False,n_samples=450,random_state=1)\n",
    "df_hyperthyroid_downsampled = resample(df_hyperthyroid,replace=False,n_samples=450,random_state=1)\n",
    "#df_sickeuthyroid_downsampled = resample(df_sickeuthyroid,replace=False,n_samples=450,random_state=1)\n",
    "\n",
    "\n",
    "\n",
    "df_downsampled = pd.concat([df_negative_downsampled,df_hypothyroid_downsampled,df_hyperthyroid,df_sickeuthyroid])\n",
    "df_downsampled.Class.value_counts()"
   ]
  },
  {
   "cell_type": "code",
   "execution_count": 30,
   "metadata": {},
   "outputs": [
    {
     "name": "stderr",
     "output_type": "stream",
     "text": [
      "C:\\Anaco3.8\\lib\\site-packages\\xgboost\\sklearn.py:1224: UserWarning: The use of label encoder in XGBClassifier is deprecated and will be removed in a future release. To remove this warning, do the following: 1) Pass option use_label_encoder=False when constructing XGBClassifier object; and 2) Encode your labels (y) as integers starting with 0, i.e. 0, 1, 2, ..., [num_class - 1].\n",
      "  warnings.warn(label_encoder_deprecation_msg, UserWarning)\n"
     ]
    },
    {
     "name": "stdout",
     "output_type": "stream",
     "text": [
      "[11:55:05] WARNING: C:/Users/Administrator/workspace/xgboost-win64_release_1.5.0/src/learner.cc:1115: Starting in XGBoost 1.3.0, the default evaluation metric used with the objective 'multi:softprob' was changed from 'merror' to 'mlogloss'. Explicitly set eval_metric if you'd like to restore the old behavior.\n",
      "Confusion matrix for:  XGBClassifier\n"
     ]
    },
    {
     "data": {
      "text/plain": [
       "array([[123,   4,   7,   1],\n",
       "       [  2, 132,   2,   0],\n",
       "       [  0,   1, 140,   0],\n",
       "       [  0,   0,   0,  81]], dtype=int64)"
      ]
     },
     "metadata": {},
     "output_type": "display_data"
    },
    {
     "name": "stdout",
     "output_type": "stream",
     "text": [
      "Confusion matrix for:  Nearest Neighbors\n"
     ]
    },
    {
     "data": {
      "text/plain": [
       "array([[ 92,  24,   8,  11],\n",
       "       [ 48,  81,   5,   2],\n",
       "       [ 12,  13, 116,   0],\n",
       "       [  1,   4,   3,  73]], dtype=int64)"
      ]
     },
     "metadata": {},
     "output_type": "display_data"
    },
    {
     "name": "stdout",
     "output_type": "stream",
     "text": [
      "Confusion matrix for:  Decision Tree\n"
     ]
    },
    {
     "data": {
      "text/plain": [
       "array([[122,   4,   8,   1],\n",
       "       [  4, 129,   3,   0],\n",
       "       [  3,   2, 136,   0],\n",
       "       [  0,   0,   0,  81]], dtype=int64)"
      ]
     },
     "metadata": {},
     "output_type": "display_data"
    },
    {
     "name": "stdout",
     "output_type": "stream",
     "text": [
      "Confusion matrix for:  Random Forest\n"
     ]
    },
    {
     "data": {
      "text/plain": [
       "array([[126,   4,   5,   0],\n",
       "       [  4, 130,   2,   0],\n",
       "       [  1,   0, 140,   0],\n",
       "       [  0,   0,   0,  81]], dtype=int64)"
      ]
     },
     "metadata": {},
     "output_type": "display_data"
    },
    {
     "name": "stdout",
     "output_type": "stream",
     "text": [
      "Confusion matrix for:  ExtraTrees\n"
     ]
    },
    {
     "data": {
      "text/plain": [
       "array([[113,   9,   8,   5],\n",
       "       [ 10, 125,   1,   0],\n",
       "       [  3,   1, 137,   0],\n",
       "       [  1,   1,   0,  79]], dtype=int64)"
      ]
     },
     "metadata": {},
     "output_type": "display_data"
    },
    {
     "name": "stdout",
     "output_type": "stream",
     "text": [
      "Confusion matrix for:  CatBoostClassifier\n"
     ]
    },
    {
     "data": {
      "text/plain": [
       "array([[124,   4,   5,   2],\n",
       "       [  3, 131,   2,   0],\n",
       "       [  1,   0, 140,   0],\n",
       "       [  0,   0,   0,  81]], dtype=int64)"
      ]
     },
     "metadata": {},
     "output_type": "display_data"
    },
    {
     "data": {
      "text/html": [
       "<div>\n",
       "<style scoped>\n",
       "    .dataframe tbody tr th:only-of-type {\n",
       "        vertical-align: middle;\n",
       "    }\n",
       "\n",
       "    .dataframe tbody tr th {\n",
       "        vertical-align: top;\n",
       "    }\n",
       "\n",
       "    .dataframe thead th {\n",
       "        text-align: right;\n",
       "    }\n",
       "</style>\n",
       "<table border=\"1\" class=\"dataframe\">\n",
       "  <thead>\n",
       "    <tr style=\"text-align: right;\">\n",
       "      <th></th>\n",
       "      <th>Classifier</th>\n",
       "      <th>Accuracy</th>\n",
       "      <th>Precision</th>\n",
       "      <th>Recall</th>\n",
       "    </tr>\n",
       "    <tr>\n",
       "      <th>FScore</th>\n",
       "      <th></th>\n",
       "      <th></th>\n",
       "      <th></th>\n",
       "      <th></th>\n",
       "    </tr>\n",
       "  </thead>\n",
       "  <tbody>\n",
       "    <tr>\n",
       "      <th>0.9706</th>\n",
       "      <td>Random Forest</td>\n",
       "      <td>0.9675</td>\n",
       "      <td>0.9711</td>\n",
       "      <td>0.9705</td>\n",
       "    </tr>\n",
       "    <tr>\n",
       "      <th>0.9681</th>\n",
       "      <td>XGBClassifier</td>\n",
       "      <td>0.9655</td>\n",
       "      <td>0.9687</td>\n",
       "      <td>0.9687</td>\n",
       "    </tr>\n",
       "    <tr>\n",
       "      <th>0.9674</th>\n",
       "      <td>CatBoostClassifier</td>\n",
       "      <td>0.9655</td>\n",
       "      <td>0.9669</td>\n",
       "      <td>0.9687</td>\n",
       "    </tr>\n",
       "    <tr>\n",
       "      <th>0.9536</th>\n",
       "      <td>Decision Tree</td>\n",
       "      <td>0.9493</td>\n",
       "      <td>0.9536</td>\n",
       "      <td>0.9542</td>\n",
       "    </tr>\n",
       "    <tr>\n",
       "      <th>0.9235</th>\n",
       "      <td>ExtraTrees</td>\n",
       "      <td>0.9209</td>\n",
       "      <td>0.9219</td>\n",
       "      <td>0.9258</td>\n",
       "    </tr>\n",
       "    <tr>\n",
       "      <th>0.7477</th>\n",
       "      <td>Nearest Neighbors</td>\n",
       "      <td>0.7343</td>\n",
       "      <td>0.7482</td>\n",
       "      <td>0.7502</td>\n",
       "    </tr>\n",
       "  </tbody>\n",
       "</table>\n",
       "</div>"
      ],
      "text/plain": [
       "                Classifier  Accuracy  Precision  Recall\n",
       "FScore                                                 \n",
       "0.9706       Random Forest    0.9675     0.9711  0.9705\n",
       "0.9681       XGBClassifier    0.9655     0.9687  0.9687\n",
       "0.9674  CatBoostClassifier    0.9655     0.9669  0.9687\n",
       "0.9536       Decision Tree    0.9493     0.9536  0.9542\n",
       "0.9235          ExtraTrees    0.9209     0.9219  0.9258\n",
       "0.7477   Nearest Neighbors    0.7343     0.7482  0.7502"
      ]
     },
     "metadata": {},
     "output_type": "display_data"
    }
   ],
   "source": [
    "X_train4, X_test4, y_train4, y_test4 = traintest_data(df_downsampled,corr_values.index,'Class')\n",
    "display(train_getscore(classifiers,X_train4, X_test4, y_train4, y_test4))"
   ]
  },
  {
   "cell_type": "code",
   "execution_count": 15,
   "metadata": {},
   "outputs": [],
   "source": [
    "# final for generating pickle file             #Q.why F1 score is used for model selection instead of ROC-AUC Score. "
   ]
  },
  {
   "cell_type": "code",
   "execution_count": 31,
   "metadata": {},
   "outputs": [],
   "source": [
    "import numpy as np\n",
    "import pandas as pd\n",
    "from sklearn.model_selection import train_test_split\n",
    "import os\n",
    "from sklearn.ensemble import RandomForestClassifier\n",
    "import pickle\n",
    "from sklearn import metrics\n",
    "from sklearn.metrics import confusion_matrix\n",
    "from sklearn.preprocessing import LabelEncoder\n",
    "from sklearn.preprocessing import MinMaxScaler\n",
    "from imblearn.over_sampling import SMOTE\n",
    "from sklearn.utils import resample\n",
    "import gzip, pickle, pickletools"
   ]
  },
  {
   "cell_type": "code",
   "execution_count": 32,
   "metadata": {},
   "outputs": [
    {
     "data": {
      "text/html": [
       "<div>\n",
       "<style scoped>\n",
       "    .dataframe tbody tr th:only-of-type {\n",
       "        vertical-align: middle;\n",
       "    }\n",
       "\n",
       "    .dataframe tbody tr th {\n",
       "        vertical-align: top;\n",
       "    }\n",
       "\n",
       "    .dataframe thead th {\n",
       "        text-align: right;\n",
       "    }\n",
       "</style>\n",
       "<table border=\"1\" class=\"dataframe\">\n",
       "  <thead>\n",
       "    <tr style=\"text-align: right;\">\n",
       "      <th></th>\n",
       "      <th>age</th>\n",
       "      <th>sex</th>\n",
       "      <th>on_thyroxine</th>\n",
       "      <th>query_on_thyroxine</th>\n",
       "      <th>on_antithyroid_medication</th>\n",
       "      <th>sick</th>\n",
       "      <th>pregnant</th>\n",
       "      <th>thyroid_surgery</th>\n",
       "      <th>I131_treatment</th>\n",
       "      <th>query_hypothyroid</th>\n",
       "      <th>...</th>\n",
       "      <th>TSH</th>\n",
       "      <th>T3_measured</th>\n",
       "      <th>T3</th>\n",
       "      <th>TT4_measured</th>\n",
       "      <th>TT4</th>\n",
       "      <th>T4U_measured</th>\n",
       "      <th>T4U</th>\n",
       "      <th>FTI_measured</th>\n",
       "      <th>FTI</th>\n",
       "      <th>Class</th>\n",
       "    </tr>\n",
       "  </thead>\n",
       "  <tbody>\n",
       "    <tr>\n",
       "      <th>0</th>\n",
       "      <td>46.0</td>\n",
       "      <td>0.0</td>\n",
       "      <td>0</td>\n",
       "      <td>0</td>\n",
       "      <td>0</td>\n",
       "      <td>0</td>\n",
       "      <td>0</td>\n",
       "      <td>0</td>\n",
       "      <td>0.0</td>\n",
       "      <td>0</td>\n",
       "      <td>...</td>\n",
       "      <td>0.98000</td>\n",
       "      <td>0</td>\n",
       "      <td>2.022785</td>\n",
       "      <td>1</td>\n",
       "      <td>109.0</td>\n",
       "      <td>1</td>\n",
       "      <td>0.910000</td>\n",
       "      <td>1</td>\n",
       "      <td>120.000000</td>\n",
       "      <td>0</td>\n",
       "    </tr>\n",
       "    <tr>\n",
       "      <th>1</th>\n",
       "      <td>70.0</td>\n",
       "      <td>1.0</td>\n",
       "      <td>1</td>\n",
       "      <td>0</td>\n",
       "      <td>0</td>\n",
       "      <td>0</td>\n",
       "      <td>0</td>\n",
       "      <td>0</td>\n",
       "      <td>0.0</td>\n",
       "      <td>0</td>\n",
       "      <td>...</td>\n",
       "      <td>0.16000</td>\n",
       "      <td>1</td>\n",
       "      <td>1.900000</td>\n",
       "      <td>1</td>\n",
       "      <td>175.0</td>\n",
       "      <td>0</td>\n",
       "      <td>0.983264</td>\n",
       "      <td>0</td>\n",
       "      <td>-17.987976</td>\n",
       "      <td>0</td>\n",
       "    </tr>\n",
       "    <tr>\n",
       "      <th>2</th>\n",
       "      <td>70.0</td>\n",
       "      <td>1.0</td>\n",
       "      <td>0</td>\n",
       "      <td>0</td>\n",
       "      <td>0</td>\n",
       "      <td>0</td>\n",
       "      <td>0</td>\n",
       "      <td>0</td>\n",
       "      <td>0.0</td>\n",
       "      <td>0</td>\n",
       "      <td>...</td>\n",
       "      <td>0.72000</td>\n",
       "      <td>1</td>\n",
       "      <td>1.200000</td>\n",
       "      <td>1</td>\n",
       "      <td>61.0</td>\n",
       "      <td>1</td>\n",
       "      <td>0.870000</td>\n",
       "      <td>1</td>\n",
       "      <td>70.000000</td>\n",
       "      <td>0</td>\n",
       "    </tr>\n",
       "    <tr>\n",
       "      <th>3</th>\n",
       "      <td>18.0</td>\n",
       "      <td>1.0</td>\n",
       "      <td>1</td>\n",
       "      <td>0</td>\n",
       "      <td>0</td>\n",
       "      <td>0</td>\n",
       "      <td>0</td>\n",
       "      <td>0</td>\n",
       "      <td>0.0</td>\n",
       "      <td>0</td>\n",
       "      <td>...</td>\n",
       "      <td>0.03000</td>\n",
       "      <td>0</td>\n",
       "      <td>2.022743</td>\n",
       "      <td>1</td>\n",
       "      <td>183.0</td>\n",
       "      <td>1</td>\n",
       "      <td>1.300000</td>\n",
       "      <td>1</td>\n",
       "      <td>141.000000</td>\n",
       "      <td>0</td>\n",
       "    </tr>\n",
       "    <tr>\n",
       "      <th>4</th>\n",
       "      <td>59.0</td>\n",
       "      <td>1.0</td>\n",
       "      <td>0</td>\n",
       "      <td>0</td>\n",
       "      <td>0</td>\n",
       "      <td>0</td>\n",
       "      <td>0</td>\n",
       "      <td>0</td>\n",
       "      <td>0.0</td>\n",
       "      <td>0</td>\n",
       "      <td>...</td>\n",
       "      <td>0.72155</td>\n",
       "      <td>0</td>\n",
       "      <td>2.022729</td>\n",
       "      <td>1</td>\n",
       "      <td>72.0</td>\n",
       "      <td>1</td>\n",
       "      <td>0.920000</td>\n",
       "      <td>1</td>\n",
       "      <td>78.000000</td>\n",
       "      <td>0</td>\n",
       "    </tr>\n",
       "  </tbody>\n",
       "</table>\n",
       "<p>5 rows × 27 columns</p>\n",
       "</div>"
      ],
      "text/plain": [
       "    age  sex  on_thyroxine  query_on_thyroxine  on_antithyroid_medication  \\\n",
       "0  46.0  0.0             0                   0                          0   \n",
       "1  70.0  1.0             1                   0                          0   \n",
       "2  70.0  1.0             0                   0                          0   \n",
       "3  18.0  1.0             1                   0                          0   \n",
       "4  59.0  1.0             0                   0                          0   \n",
       "\n",
       "   sick  pregnant  thyroid_surgery  I131_treatment  query_hypothyroid  ...  \\\n",
       "0     0         0                0             0.0                  0  ...   \n",
       "1     0         0                0             0.0                  0  ...   \n",
       "2     0         0                0             0.0                  0  ...   \n",
       "3     0         0                0             0.0                  0  ...   \n",
       "4     0         0                0             0.0                  0  ...   \n",
       "\n",
       "       TSH  T3_measured        T3  TT4_measured    TT4  T4U_measured  \\\n",
       "0  0.98000            0  2.022785             1  109.0             1   \n",
       "1  0.16000            1  1.900000             1  175.0             0   \n",
       "2  0.72000            1  1.200000             1   61.0             1   \n",
       "3  0.03000            0  2.022743             1  183.0             1   \n",
       "4  0.72155            0  2.022729             1   72.0             1   \n",
       "\n",
       "        T4U  FTI_measured         FTI  Class  \n",
       "0  0.910000             1  120.000000      0  \n",
       "1  0.983264             0  -17.987976      0  \n",
       "2  0.870000             1   70.000000      0  \n",
       "3  1.300000             1  141.000000      0  \n",
       "4  0.920000             1   78.000000      0  \n",
       "\n",
       "[5 rows x 27 columns]"
      ]
     },
     "execution_count": 32,
     "metadata": {},
     "output_type": "execute_result"
    }
   ],
   "source": [
    "dir_path_post = '../cleaned_processed_data'\n",
    "df = pd.read_csv(os.path.join(dir_path_post,'stage02_preprocessed.csv'))\n",
    "df.head(5)"
   ]
  },
  {
   "cell_type": "code",
   "execution_count": 33,
   "metadata": {},
   "outputs": [],
   "source": [
    "\n",
    "\n",
    "def get_correlation(df):\n",
    "    corr_values = abs(df.corr(method='spearman')['Class'])\n",
    "    corr_values = corr_values.drop('Class')\n",
    "    corr_values = corr_values[corr_values > 0.03]\n",
    "    display(corr_values)\n",
    "    return corr_values\n",
    "\n",
    "def traintest_data(df, features, label):\n",
    "    X = df[features]\n",
    "    Y = df[label]\n",
    "    X_train, X_test, y_train, y_test = train_test_split(X,Y, test_size=0.30, random_state=42) \n",
    "    return X_train, X_test, y_train, y_test\n",
    "\n",
    "\n",
    "def scaled_df(df):\n",
    "    scaler = MinMaxScaler()\n",
    "    \n",
    "    data=pd.DataFrame(scaler.fit_transform(df.drop(columns =['Class'])),columns=df.columns[:-1])\n",
    "    pickle.dump(scaler, open('../model_scaler_picklefile/thyroid_scaler.pickle','wb'))\n",
    "    data['Class'] = df['Class']\n",
    "    return data\n",
    "\n",
    "def smote_resampled(X_train, X_test, y_train, y_test):\n",
    "    smote = SMOTE('not majority',random_state = 1)\n",
    "    X_train_sm, y_train_sm = smote.fit_resample(X_train,y_train)\n",
    "    X_test_sm, y_test_sm = smote.fit_resample(X_test,y_test)\n",
    "    return X_train_sm,X_test_sm,y_train_sm,y_test_sm\n",
    "\n",
    "\n",
    "def under_sampled(df):\n",
    "    df_negative = df[df.Class==0]\n",
    "    df_hypothyroid = df[df.Class==1]\n",
    "    df_hyperthyroid = df[df.Class==2]\n",
    "    df_sickeuthyroid = df[df.Class==3]\n",
    "\n",
    "    df_negative_downsampled = resample(df_negative,replace=False,n_samples=450,random_state=1)\n",
    "    df_hypothyroid_downsampled = resample(df_hypothyroid,replace=False,n_samples=450,random_state=1)\n",
    "    df_hyperthyroid_downsampled = resample(df_hyperthyroid,replace=False,n_samples=450,random_state=1)\n",
    "    \n",
    "    df_downsampled = pd.concat([df_negative_downsampled,df_hypothyroid_downsampled,df_hyperthyroid,df_sickeuthyroid])\n",
    "    return df_downsampled"
   ]
  },
  {
   "cell_type": "code",
   "execution_count": 34,
   "metadata": {},
   "outputs": [
    {
     "data": {
      "text/plain": [
       "(0.9718601127804634, 0.9722903050108933, 0.9717508968724129)"
      ]
     },
     "execution_count": 34,
     "metadata": {},
     "output_type": "execute_result"
    }
   ],
   "source": [
    "data = df.copy()\n",
    "\n",
    "#### List of selected features\n",
    "selected_features = ['age', 'sex', 'on_thyroxine', 'query_hypothyroid', 'query_hyperthyroid',\n",
    "       'psych', 'TSH_measured', 'TSH', 'T3_measured', 'T3', 'TT4_measured',\n",
    "       'TT4', 'T4U_measured', 'FTI_measured', 'FTI']\n",
    "all_data = ['age', 'sex', 'on_thyroxine', 'query_hypothyroid', 'query_hyperthyroid',\n",
    "       'psych', 'TSH_measured', 'TSH', 'T3_measured', 'T3', 'TT4_measured',\n",
    "       'TT4', 'T4U_measured', 'FTI_measured', 'FTI','Class']\n",
    "data = scaled_df(df[all_data])\n",
    "df_downsampled = under_sampled(data[all_data])\n",
    "X_train_final, X_test_final, y_train_final, y_test_final = traintest_data(df_downsampled,selected_features,'Class')\n",
    "rfc = RandomForestClassifier(class_weight = 'balanced',random_state = 10)\n",
    "rfc.fit(X_train_final,y_train_final)\n",
    "y_pred = rfc.predict(X_test_final)\n",
    "\n",
    "precision_score,recall_score,f_score,support = metrics.precision_recall_fscore_support(y_test_final,y_pred,average='macro')\n",
    "precision_score,recall_score,f_score"
   ]
  },
  {
   "cell_type": "raw",
   "metadata": {},
   "source": [
    "# discretization_columns = ['age','TSH','T3','TT4','T4U','FTI']\n",
    "data = df.copy()\n",
    "# for col in discretization_columns:\n",
    "#     data[col] = fdiscretizer(col,data)\n",
    "# scaler = MinMaxScaler()\n",
    "# data=pd.DataFrame(scaler.fit_transform(df.drop(columns =['Class'])),columns=data2.columns[:-1])\n",
    "# data['Class'] = df['Class']\n",
    "\n",
    "data = scaled_df(df)\n",
    "\n",
    "corr_values = get_correlation(data)\n",
    "X_train, X_test, y_train, y_test = traintest_data(data, corr_values.index,'Class')\n",
    "\n",
    "X_train_sm,X_test_sm,y_train_sm,y_test_sm = smote_resampled(X_train, X_test, y_train, y_test)\n",
    "df_downsampled = under_sampled(data)\n",
    "X_train_final, X_test_final, y_train_final, y_test_final = traintest_data(df_downsampled,corr_values.index,'Class')\n",
    "\n",
    "\n",
    "\n",
    "# Model\n",
    "rfc = RandomForestClassifier(class_weight = 'balanced',random_state = 10)\n",
    "rfc.fit(X_train_final,y_train_final)\n",
    "y_pred = rfc.predict(X_test_final)\n",
    "\n",
    "precision_score,recall_score,f_score,support = metrics.precision_recall_fscore_support(y_test_final,y_pred,average='macro')"
   ]
  },
  {
   "cell_type": "code",
   "execution_count": null,
   "metadata": {},
   "outputs": [],
   "source": []
  },
  {
   "cell_type": "markdown",
   "metadata": {},
   "source": [
    "# model pickle"
   ]
  },
  {
   "cell_type": "code",
   "execution_count": 20,
   "metadata": {},
   "outputs": [],
   "source": [
    "filepath = os.path.join(\"../model_scaler_picklefile\",\"thyroid_model.pkl\")\n",
    "with gzip.open(filepath, \"wb\") as f:\n",
    "    pickled = pickle.dumps(rfc)\n",
    "    optimized_pickle = pickletools.optimize(pickled)\n",
    "    f.write(optimized_pickle)"
   ]
  },
  {
   "cell_type": "code",
   "execution_count": null,
   "metadata": {},
   "outputs": [],
   "source": []
  },
  {
   "cell_type": "code",
   "execution_count": 35,
   "metadata": {},
   "outputs": [],
   "source": [
    "#### List of selected features\n",
    "selected_features = ['age', 'sex', 'on_thyroxine', 'query_hypothyroid', 'query_hyperthyroid',\n",
    "       'psych', 'TSH_measured', 'TSH', 'T3_measured', 'T3', 'TT4_measured',\n",
    "       'TT4', 'T4U_measured', 'FTI_measured', 'FTI']"
   ]
  },
  {
   "cell_type": "code",
   "execution_count": 40,
   "metadata": {},
   "outputs": [
    {
     "data": {
      "text/plain": [
       "array([ 7.00000000e+01,  1.00000000e+00,  1.00000000e+00,  0.00000000e+00,\n",
       "        0.00000000e+00,  0.00000000e+00,  1.00000000e+00,  1.60000000e-01,\n",
       "        1.00000000e+00,  1.90000000e+00,  1.00000000e+00,  1.75000000e+02,\n",
       "        0.00000000e+00,  0.00000000e+00, -1.79879763e+01])"
      ]
     },
     "execution_count": 40,
     "metadata": {},
     "output_type": "execute_result"
    }
   ],
   "source": [
    "df[selected_features].iloc[1,:].values"
   ]
  },
  {
   "cell_type": "code",
   "execution_count": null,
   "metadata": {},
   "outputs": [],
   "source": []
  }
 ],
 "metadata": {
  "kernelspec": {
   "display_name": "Python 3",
   "language": "python",
   "name": "python3"
  },
  "language_info": {
   "codemirror_mode": {
    "name": "ipython",
    "version": 3
   },
   "file_extension": ".py",
   "mimetype": "text/x-python",
   "name": "python",
   "nbconvert_exporter": "python",
   "pygments_lexer": "ipython3",
   "version": "3.8.5"
  }
 },
 "nbformat": 4,
 "nbformat_minor": 5
}
